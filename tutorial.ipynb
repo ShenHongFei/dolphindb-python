{
 "cells": [
  {
   "cell_type": "markdown",
   "metadata": {},
   "source": [
    "# Python API for DolphinDB\n",
    "\n",
    "DolphinDB Python API supports Python 3.6 or above.\n",
    "\n",
    "DolphinDB Python API in essense encapsulates a subset of the DolphinDB script language. It converts Python script to DolphinDB script to be executed on the DolphinDB server. The execution result can either be saved to an object on DolphinDB server, or be serialized to a Python client object. \n",
    "\n",
    "There are 2 types of Python API methods. The first type generates DolphinDB script but does not trigger script execution; the second type triggers script execution. Most Python API methods are of the first type. The table below lists all the methods of the second type. They all belong to the table class. \n",
    "\n",
    "| Method        | Explanation          |\n",
    "|-------------- |--------------|\n",
    "|connect(host, port, [username, password])    | Connect a session to a DolphinDB server |\n",
    "|toDF()    | Convert a DolphinDB table object to a pandas Dataframe object |\n",
    "|executeAs(tableName)    | Save a table on DolphinDB server with the specified table name |\n",
    "|execute()    | Used with **update** and **delete** methods |\n",
    "|database(dbPath, ......)    | Create or reload a database |\n",
    "|dropDatabase(dbPath)    | Delete a database |\n",
    "|dropPartition(dbPath, partitionPaths)    | Delete database partitions |\n",
    "|dropTable(dbPath, tableName)    | Delete a table |\n",
    "|drop(colNameList)    | Delete columns from a table |\n",
    "|ols(Y, X, intercept)   | Conduct ordinary least squares regression and return a dictionary of regression results |\n",
    "\n",
    "The examples in this tutorial use a csv file: [example.csv](https://github.com/dolphindb/api-python3/blob/master/data/example.csv)."
   ]
  },
  {
   "cell_type": "markdown",
   "metadata": {},
   "source": [
    "### 1 Connect to DolphinDB\n",
    "\n",
    "Python interacts with DolphinDB through a session. In the following example, we first create a session in Python, then connect the session to a DolphinDB server with specified domain name/IP address and port number. We need to start a DolphinDB server before running the following Python script."
   ]
  },
  {
   "cell_type": "code",
   "execution_count": 1,
   "metadata": {},
   "outputs": [],
   "source": [
    "import dolphindb as ddb\n",
    "s = ddb.session()\n",
    "# for atandalone mode\n",
    "#s.connect(\"localhost\",8848)"
   ]
  },
  {
   "cell_type": "markdown",
   "metadata": {},
   "source": [
    "If you need to enter username and password:"
   ]
  },
  {
   "cell_type": "code",
   "execution_count": null,
   "metadata": {},
   "outputs": [],
   "source": [
    "s.connect(\"localhost\",8848, YOUR_USERNAME, YOUR_PASSWORD)"
   ]
  },
  {
   "cell_type": "code",
   "execution_count": 2,
   "metadata": {},
   "outputs": [
    {
     "data": {
      "text/plain": [
       "True"
      ]
     },
     "execution_count": 2,
     "metadata": {},
     "output_type": "execute_result"
    }
   ],
   "source": [
    "s.connect(\"localhost\",8941,\"admin\",\"123456\")"
   ]
  },
  {
   "cell_type": "markdown",
   "metadata": {},
   "source": [
    "The default admin account username and password for DolphinDB server are \"admin\" and \"123456\" respectively."
   ]
  },
  {
   "cell_type": "markdown",
   "metadata": {},
   "source": [
    "### 2 Import data to DolphinDB server\n",
    "\n",
    "There are 3 types of DolphinDB databases based on where they are saved: in DFS (Distributed File System), in local file system and in memory. DolphinDB is a distributed database system and achieves optimal performance in DFS mode. DFS also automatically manages data storage and duplication. Therefore, we highly recommend to use DFS mode. Please refer to the tutorial multi_machine_cluster_deploy for details. For users to get started quickly, we also use databases in the local file system in the examples in this tutorial. All DFS database paths start with \"dfs://\"."
   ]
  },
  {
   "cell_type": "markdown",
   "metadata": {},
   "source": [
    "#### 2.1 Import data as an in-memory table\n",
    "\n",
    "To import text files into DolphinDB as an in-memory table, use session method **loadText**. It returns a DolphinDB table object in Python, which corresponds to an in-memory table on the DolphinDB server. The DolphinDB table object in Python has a method **toDF** to convert it to a pandas DataFrame.\n",
    "\n",
    "Please note that to use method **loadText** to load a text file as an in-memory table, data size must be smaller than available memory."
   ]
  },
  {
   "cell_type": "code",
   "execution_count": 3,
   "metadata": {},
   "outputs": [
    {
     "name": "stdout",
     "output_type": "stream",
     "text": [
      "select TICKER,date,VOL,PRC,BID,ASK from TMP_TBL_6e1159b6\n",
      "      TICKER       date       VOL        PRC        BID       ASK\n",
      "0       AMZN 1997-05-15   6029815   23.50000   23.50000   23.6250\n",
      "1       AMZN 1997-05-16   1232226   20.75000   20.50000   21.0000\n",
      "2       AMZN 1997-05-19    512070   20.50000   20.50000   20.6250\n",
      "3       AMZN 1997-05-20    456357   19.62500   19.62500   19.7500\n",
      "4       AMZN 1997-05-21   1577414   17.12500   17.12500   17.2500\n",
      "5       AMZN 1997-05-22    983855   16.75000   16.62500   16.7500\n",
      "6       AMZN 1997-05-23   1330026   18.00000   18.00000   18.1250\n",
      "7       AMZN 1997-05-27    726192   19.00000   19.00000   19.1250\n",
      "8       AMZN 1997-05-28    382132   18.37500   18.37500   18.6250\n",
      "9       AMZN 1997-05-29    289970   18.06250   18.00000   18.1250\n",
      "10      AMZN 1997-05-30    216530   18.00000   18.00000   18.1250\n",
      "11      AMZN 1997-06-02     49764   18.12500   18.12500   18.3750\n",
      "12      AMZN 1997-06-03     99107   17.75000   17.75000   17.8750\n",
      "13      AMZN 1997-06-04    257316   17.00000   17.00000   17.2500\n",
      "14      AMZN 1997-06-05    473301   18.50000   18.37500   18.5000\n",
      "15      AMZN 1997-06-06    651741   19.87500   19.87500   20.1250\n",
      "16      AMZN 1997-06-09    196603   20.25000   20.18750   20.5000\n",
      "17      AMZN 1997-06-10    455531   19.00000   19.00000   19.1250\n",
      "18      AMZN 1997-06-11     99481   18.50000   18.37500   18.7500\n",
      "19      AMZN 1997-06-12    136461   19.25000   19.25000   19.3125\n",
      "20      AMZN 1997-06-13     58058   19.00000   19.00000   19.1875\n",
      "21      AMZN 1997-06-16     76922   18.87500   18.75000   19.1250\n",
      "22      AMZN 1997-06-17    393436   18.06250   18.06250   18.2500\n",
      "23      AMZN 1997-06-18    206108   18.12500   18.00000   18.1250\n",
      "24      AMZN 1997-06-19     84121   18.12500   18.12500   18.3750\n",
      "25      AMZN 1997-06-20    282926   18.31250   18.25000   18.5000\n",
      "26      AMZN 1997-06-23     88120   18.00000   17.75000   18.0000\n",
      "27      AMZN 1997-06-24     62771   18.12500   18.12500   18.3125\n",
      "28      AMZN 1997-06-25    176059   18.12500   18.12500   18.2500\n",
      "29      AMZN 1997-06-26    266122   18.12500   18.12500   18.1875\n",
      "...      ...        ...       ...        ...        ...       ...\n",
      "13106   NFLX 2016-11-17   6232744  115.03000  115.03000  115.0400\n",
      "13107   NFLX 2016-11-18   6746783  115.21000  115.20000  115.2400\n",
      "13108   NFLX 2016-11-21   7064528  117.96000  117.96000  117.9800\n",
      "13109   NFLX 2016-11-22   7007188  118.04000  118.04000  118.0600\n",
      "13110   NFLX 2016-11-23   4521314  117.69000  117.68000  117.7000\n",
      "13111   NFLX 2016-11-25   1616260  117.41000  117.38000  117.4100\n",
      "13112   NFLX 2016-11-28   5278861  116.93000  116.92000  116.9300\n",
      "13113   NFLX 2016-11-29   7089548  117.51000  117.51000  117.5200\n",
      "13114   NFLX 2016-11-30   7715103  117.00000  117.00000  117.0200\n",
      "13115   NFLX 2016-12-01   8636943  117.22000  117.22000  117.2400\n",
      "13116   NFLX 2016-12-02   8953590  120.81000  120.81000  120.8400\n",
      "13117   NFLX 2016-12-05   7626283  119.16000  119.15000  119.1600\n",
      "13118   NFLX 2016-12-06  11513209  124.57000  124.56000  124.6000\n",
      "13119   NFLX 2016-12-07   8204687  125.39000  125.37000  125.3900\n",
      "13120   NFLX 2016-12-08   8987712  123.24000  123.23000  123.2400\n",
      "13121   NFLX 2016-12-09   4700783  122.88000  122.86000  122.8800\n",
      "13122   NFLX 2016-12-12   3917605  122.83000  122.80000  122.8300\n",
      "13123   NFLX 2016-12-13   5564909  123.78000  123.78000  123.7900\n",
      "13124   NFLX 2016-12-14   6110273  123.44000  123.41000  123.4400\n",
      "13125   NFLX 2016-12-15   7376184  125.00000  125.00000  125.0200\n",
      "13126   NFLX 2016-12-16   8767571  124.22000  124.22000  124.2300\n",
      "13127   NFLX 2016-12-19   4866394  125.45000  125.45000  125.4600\n",
      "13128   NFLX 2016-12-20   3937390  125.12000  125.09000  125.1300\n",
      "13129   NFLX 2016-12-21   6513813  126.50000  126.50000  126.5200\n",
      "13130   NFLX 2016-12-22   4160969  125.58000  125.55000  125.5800\n",
      "13131   NFLX 2016-12-23   2010120  125.59000  125.57000  125.5900\n",
      "13132   NFLX 2016-12-27   5287520  128.35001  128.35001  128.3600\n",
      "13133   NFLX 2016-12-28   4388956  125.89000  125.88000  125.8900\n",
      "13134   NFLX 2016-12-29   3444729  125.33000  125.31000  125.3300\n",
      "13135   NFLX 2016-12-30   4455012  123.80000  123.80000  123.8300\n",
      "\n",
      "[13136 rows x 6 columns]\n"
     ]
    }
   ],
   "source": [
    "WORK_DIR = \"C:/DolphinDB/Data\"\n",
    "\n",
    "# return a DolphinDB table object in Python\n",
    "trade=s.loadText(WORK_DIR+\"/example.csv\")\n",
    "\n",
    "# convert the imported DolphinDB table object into a pandas DataFrame\n",
    "df = trade.toDF()\n",
    "print(df)"
   ]
  },
  {
   "cell_type": "markdown",
   "metadata": {},
   "source": [
    "The default delimiter for function **loadText** is comma \",\". Other delimiters can also be specified. For example, to import a tabular text file:"
   ]
  },
  {
   "cell_type": "code",
   "execution_count": null,
   "metadata": {},
   "outputs": [],
   "source": [
    "t1=s.loadText(WORK_DIR+\"/t1.tsv\", '\\t')"
   ]
  },
  {
   "cell_type": "markdown",
   "metadata": {},
   "source": [
    "#### 2.2 Import data into a partitioned database\n",
    "\n",
    "To load data files that are larger than available memory into DolphinDB, we can load data into a partitioned database."
   ]
  },
  {
   "cell_type": "markdown",
   "metadata": {},
   "source": [
    "#### 2.2.1 Create a partitioned database\n",
    "\n",
    "After we create a partitioned database, we cannot modify its partitioning scheme. To make sure the examples below do not use a pre-defined database \"valuedb\", check if it exists. If it exists, drop it."
   ]
  },
  {
   "cell_type": "code",
   "execution_count": 4,
   "metadata": {},
   "outputs": [],
   "source": [
    "if s.existsDatabase(WORK_DIR+\"/valuedb\"):\n",
    "    s.dropDatabase(WORK_DIR+\"/valuedb\")"
   ]
  },
  {
   "cell_type": "markdown",
   "metadata": {},
   "source": [
    "Now create a value-based partitioned database \"valuedb\" with a session method **database**. As \"example.csv\" only has data for 3 stocks, we use a VALUE partition with stock ticker as the partitioning column. The parameter **partitions** indicates the partition scheme."
   ]
  },
  {
   "cell_type": "code",
   "execution_count": 5,
   "metadata": {},
   "outputs": [],
   "source": [
    "# 'db' indicates the database handle name on the DolphinDB server.\n",
    "s.database('db', partitionType=ddb.VALUE, partitions=[\"AMZN\",\"NFLX\",\"NVDA\"], dbPath=WORK_DIR+\"/valuedb\")\n",
    "# this is equivalent to executing 'db=database(=WORK_DIR+\"/valuedb\", VALUE, [\"AMZN\",\"NFLX\", \"NVDA\"])' on DolphinDB server."
   ]
  },
  {
   "cell_type": "markdown",
   "metadata": {},
   "source": [
    "To create a partitioned database in DFS, just make the database path start with \"dfs://\". To run the following example, we need to configure a DFS cluster. Please refer to the tutorial [multi_machine_cluster_deploy.md](https://github.com/dolphindb/Tutorials_EN/blob/master/multi_machine_cluster_deploy.md)."
   ]
  },
  {
   "cell_type": "code",
   "execution_count": 6,
   "metadata": {},
   "outputs": [],
   "source": [
    "s.database('db', partitionType=ddb.VALUE, partitions=[\"AMZN\",\"NFLX\", \"NVDA\"], dbPath=\"dfs://valuedb\")"
   ]
  },
  {
   "cell_type": "markdown",
   "metadata": {},
   "source": [
    "In addition to VALUE partition, DolphinDB also supports SEQ, RANGE, LIST, COMBO, and HASH partitions."
   ]
  },
  {
   "cell_type": "markdown",
   "metadata": {},
   "source": [
    "#### 2.2.2 Create a partitioned table and append data to the table\n",
    "\n",
    "After a partitioned database is created successfully, we can import text files to a partitioned table in the partitioned database with function **loadTextEx**. If the partitioned table does not exist, **loadTextEx** creates it and appends the imported data to it. Otherwise, the function appends the imported data to the partitioned table.\n",
    "\n",
    "In function **loadTextEx**, parameter **dbPath** is the database path; **tableName** is the partitioned table name; **partitionColumns** is the partitioning columns; **filePath** is the absolute path of the text file; **delimiter** is the delimiter of the text file (comma by default).\n",
    "\n",
    "In the following example, function **loadTextEx** creates a partitioned table **trade** on the DolphinDB server and then appends the data from \"example.csv\" to the table. "
   ]
  },
  {
   "cell_type": "code",
   "execution_count": 7,
   "metadata": {},
   "outputs": [
    {
     "name": "stdout",
     "output_type": "stream",
     "text": [
      "select TICKER,date,VOL,PRC,BID,ASK from TMP_TBL_45472ef4\n",
      "      TICKER       date       VOL       PRC       BID       ASK\n",
      "0       AMZN 1997-05-15   6029815   23.5000   23.5000   23.6250\n",
      "1       AMZN 1997-05-16   1232226   20.7500   20.5000   21.0000\n",
      "2       AMZN 1997-05-19    512070   20.5000   20.5000   20.6250\n",
      "3       AMZN 1997-05-20    456357   19.6250   19.6250   19.7500\n",
      "4       AMZN 1997-05-21   1577414   17.1250   17.1250   17.2500\n",
      "5       AMZN 1997-05-22    983855   16.7500   16.6250   16.7500\n",
      "6       AMZN 1997-05-23   1330026   18.0000   18.0000   18.1250\n",
      "7       AMZN 1997-05-27    726192   19.0000   19.0000   19.1250\n",
      "8       AMZN 1997-05-28    382132   18.3750   18.3750   18.6250\n",
      "9       AMZN 1997-05-29    289970   18.0625   18.0000   18.1250\n",
      "10      AMZN 1997-05-30    216530   18.0000   18.0000   18.1250\n",
      "11      AMZN 1997-06-02     49764   18.1250   18.1250   18.3750\n",
      "12      AMZN 1997-06-03     99107   17.7500   17.7500   17.8750\n",
      "13      AMZN 1997-06-04    257316   17.0000   17.0000   17.2500\n",
      "14      AMZN 1997-06-05    473301   18.5000   18.3750   18.5000\n",
      "15      AMZN 1997-06-06    651741   19.8750   19.8750   20.1250\n",
      "16      AMZN 1997-06-09    196603   20.2500   20.1875   20.5000\n",
      "17      AMZN 1997-06-10    455531   19.0000   19.0000   19.1250\n",
      "18      AMZN 1997-06-11     99481   18.5000   18.3750   18.7500\n",
      "19      AMZN 1997-06-12    136461   19.2500   19.2500   19.3125\n",
      "20      AMZN 1997-06-13     58058   19.0000   19.0000   19.1875\n",
      "21      AMZN 1997-06-16     76922   18.8750   18.7500   19.1250\n",
      "22      AMZN 1997-06-17    393436   18.0625   18.0625   18.2500\n",
      "23      AMZN 1997-06-18    206108   18.1250   18.0000   18.1250\n",
      "24      AMZN 1997-06-19     84121   18.1250   18.1250   18.3750\n",
      "25      AMZN 1997-06-20    282926   18.3125   18.2500   18.5000\n",
      "26      AMZN 1997-06-23     88120   18.0000   17.7500   18.0000\n",
      "27      AMZN 1997-06-24     62771   18.1250   18.1250   18.3125\n",
      "28      AMZN 1997-06-25    176059   18.1250   18.1250   18.2500\n",
      "29      AMZN 1997-06-26    266122   18.1250   18.1250   18.1875\n",
      "...      ...        ...       ...       ...       ...       ...\n",
      "13106   NVDA 2016-11-17  20836021   92.3900   92.3900   92.4100\n",
      "13107   NVDA 2016-11-18  14401499   93.3600   93.3500   93.3600\n",
      "13108   NVDA 2016-11-21  10910958   92.9800   92.9800   93.0100\n",
      "13109   NVDA 2016-11-22   8259232   93.6500   93.6400   93.6500\n",
      "13110   NVDA 2016-11-23  11081057   93.9700   93.9500   93.9700\n",
      "13111   NVDA 2016-11-25   4889078   94.1600   94.1100   94.1600\n",
      "13112   NVDA 2016-11-28   6968380   94.1100   94.1000   94.1100\n",
      "13113   NVDA 2016-11-29  11114187   93.2500   93.2500   93.2700\n",
      "13114   NVDA 2016-11-30  11012570   92.2000   92.2000   92.2200\n",
      "13115   NVDA 2016-12-01  25893353   87.6400   87.6400   87.6500\n",
      "13116   NVDA 2016-12-02  11957468   88.4500   88.4500   88.4700\n",
      "13117   NVDA 2016-12-05  15067125   91.8800   91.8700   91.8800\n",
      "13118   NVDA 2016-12-06  12469875   93.3900   93.3900   93.4000\n",
      "13119   NVDA 2016-12-07  12020593   95.0700   95.0400   95.0700\n",
      "13120   NVDA 2016-12-08   9538602   93.4800   93.4700   93.4900\n",
      "13121   NVDA 2016-12-09   9557799   91.8200   91.8000   91.8200\n",
      "13122   NVDA 2016-12-12  15033365   89.5900   89.5700   89.5900\n",
      "13123   NVDA 2016-12-13   9694874   91.1700   91.1700   91.1900\n",
      "13124   NVDA 2016-12-14  24599538   96.4500   96.4400   96.4600\n",
      "13125   NVDA 2016-12-15  18663653   98.7100   98.7000   98.7200\n",
      "13126   NVDA 2016-12-16  27238183  100.4100  100.3900  100.4000\n",
      "13127   NVDA 2016-12-19  18616956  101.6300  101.6500  101.6600\n",
      "13128   NVDA 2016-12-20  21201433  105.1700  105.1700  105.1800\n",
      "13129   NVDA 2016-12-21  14403361  105.8300  105.8200  105.8400\n",
      "13130   NVDA 2016-12-22  17965259  107.1100  107.0900  107.1100\n",
      "13131   NVDA 2016-12-23  16193331  109.7800  109.7700  109.7900\n",
      "13132   NVDA 2016-12-27  29857132  117.3200  117.3100  117.3200\n",
      "13133   NVDA 2016-12-28  57384116  109.2500  109.2500  109.2900\n",
      "13134   NVDA 2016-12-29  54384676  111.4300  111.2600  111.4200\n",
      "13135   NVDA 2016-12-30  30323259  106.7400  106.7300  106.7500\n",
      "\n",
      "[13136 rows x 6 columns]\n"
     ]
    }
   ],
   "source": [
    "if s.existsDatabase(WORK_DIR+\"/valuedb\"):\n",
    "    s.dropDatabase(WORK_DIR+\"/valuedb\")\n",
    "s.database('db', partitionType=ddb.VALUE, partitions=[\"AMZN\",\"NFLX\", \"NVDA\"], dbPath=WORK_DIR+\"/valuedb\")\n",
    "trade = s.loadTextEx(\"db\",  tableName='trade',partitionColumns=[\"TICKER\"], filePath=WORK_DIR + \"/example.csv\")\n",
    "print(trade.toDF())"
   ]
  },
  {
   "cell_type": "markdown",
   "metadata": {},
   "source": [
    "To show the number of rows in the table:"
   ]
  },
  {
   "cell_type": "code",
   "execution_count": 8,
   "metadata": {},
   "outputs": [
    {
     "name": "stdout",
     "output_type": "stream",
     "text": [
      "select TICKER,date,VOL,PRC,BID,ASK from TMP_TBL_45472ef4\n",
      "13136\n"
     ]
    }
   ],
   "source": [
    "print(trade.rows)"
   ]
  },
  {
   "cell_type": "markdown",
   "metadata": {},
   "source": [
    "To show the number of columns in the table:"
   ]
  },
  {
   "cell_type": "code",
   "execution_count": 9,
   "metadata": {},
   "outputs": [
    {
     "name": "stdout",
     "output_type": "stream",
     "text": [
      "6\n"
     ]
    }
   ],
   "source": [
    "print(trade.cols)"
   ]
  },
  {
   "cell_type": "markdown",
   "metadata": {},
   "source": [
    "To show the schema of the table:"
   ]
  },
  {
   "cell_type": "code",
   "execution_count": 10,
   "metadata": {},
   "outputs": [
    {
     "name": "stdout",
     "output_type": "stream",
     "text": [
      "     name typeString  typeInt\n",
      "0  TICKER     SYMBOL       17\n",
      "1    date       DATE        6\n",
      "2     VOL        INT        4\n",
      "3     PRC     DOUBLE       16\n",
      "4     BID     DOUBLE       16\n",
      "5     ASK     DOUBLE       16\n"
     ]
    }
   ],
   "source": [
    "print(trade.schema)"
   ]
  },
  {
   "cell_type": "markdown",
   "metadata": {},
   "source": [
    "To refer to the table later:"
   ]
  },
  {
   "cell_type": "code",
   "execution_count": 11,
   "metadata": {},
   "outputs": [],
   "source": [
    "trade = s.loadTable(tableName=\"trade\",dbPath=WORK_DIR+\"/valuedb\")"
   ]
  },
  {
   "cell_type": "markdown",
   "metadata": {},
   "source": [
    "#### 2.3 Import data as an in-memory partitioned table\n",
    "\n",
    "#### 2.3.1 **loadTextEx**\n",
    "\n",
    "We can import data as an in-memory partitioned table. Operations on an in-memory partitioned table are faster than those on a nonpartitioned in-memory table as the former utilizes parallel computing.\n",
    "\n",
    "We can use function **loadTextEx** to create an in-memory partitioned database with an empty string for the parameter **dbPath**."
   ]
  },
  {
   "cell_type": "code",
   "execution_count": 12,
   "metadata": {},
   "outputs": [],
   "source": [
    "s.database('db', partitionType=ddb.VALUE, partitions=[\"AMZN\",\"NFLX\",\"NVDA\"], dbPath=\"\")\n",
    "\n",
    "# \"dbPath='db'\" means that the system uses database handle 'db' to import data into in-memory partitioned table trade\n",
    "trade=s.loadTextEx(dbPath=\"db\", partitionColumns=[\"TICKER\"], tableName='trade', filePath=WORK_DIR + \"/example.csv\")"
   ]
  },
  {
   "cell_type": "markdown",
   "metadata": {},
   "source": [
    "#### 2.3.2 **ploadText**\n",
    "\n",
    "Function **ploadText** loads a text file in parallel to generate an in-memory partitioned table. It runs much faster than **loadText**."
   ]
  },
  {
   "cell_type": "code",
   "execution_count": 13,
   "metadata": {},
   "outputs": [
    {
     "name": "stdout",
     "output_type": "stream",
     "text": [
      "select TICKER,date,VOL,PRC,BID,ASK from TMP_TBL_a1f23718\n",
      "13136\n"
     ]
    }
   ],
   "source": [
    "trade=s.ploadText(WORK_DIR+\"/example.csv\")\n",
    "print(trade.rows)"
   ]
  },
  {
   "cell_type": "markdown",
   "metadata": {},
   "source": [
    "#### 2.4 Upload data from Python to DolphinDB server\n",
    "\n",
    "#### 2.4.1 With function **upload**\n",
    "\n",
    "We can upload a Python object to the DolphinDB server with function **upload**. The input of function **upload** is a Python dictionary object. For this dictionary object, the key is the variable name on DolphinDB server and the value is the Python object."
   ]
  },
  {
   "cell_type": "code",
   "execution_count": 14,
   "metadata": {},
   "outputs": [
    {
     "name": "stdout",
     "output_type": "stream",
     "text": [
      "5.44\n"
     ]
    }
   ],
   "source": [
    "import pandas as pd\n",
    "import numpy as np\n",
    "df = pd.DataFrame({'id': np.int32([1, 2, 3, 4, 3]), 'value':  np.double([7.8, 4.6, 5.1, 9.6, 0.1]), 'x': np.int32([5, 4, 3, 2, 1])})\n",
    "s.upload({'t1': df})\n",
    "print(s.run(\"t1.value.avg()\"))"
   ]
  },
  {
   "cell_type": "markdown",
   "metadata": {},
   "source": [
    "#### 2.4.2 With function **table**\n",
    "\n",
    "A DolphinDB table object can be created on the DolphinDB server with the **table** method of a session. The input of the **table** method can be a dictionary, a DataFrame, or a table name on the DolphinDB server. "
   ]
  },
  {
   "cell_type": "code",
   "execution_count": 15,
   "metadata": {},
   "outputs": [
    {
     "name": "stdout",
     "output_type": "stream",
     "text": [
      "select id,ticker,price from TMP_TBL_4d6e3f45\n",
      "test=(select id,ticker,price from TMP_TBL_4d6e3f45)\n",
      "select id,ticker,price from test\n",
      "   id ticker  price\n",
      "0   1   AAPL   22.0\n",
      "1   2   AMZN    3.5\n",
      "2   2   AMZN   21.0\n",
      "3   3      A   26.0\n"
     ]
    }
   ],
   "source": [
    "# save the table to DolphinDB server as table \"test\"\n",
    "dt = s.table(data={'id': [1, 2, 2, 3],\n",
    "                   'ticker': ['AAPL', 'AMZN', 'AMZN', 'A'],\n",
    "                   'price': [22, 3.5, 21, 26]}).executeAs(\"test\")\n",
    "\n",
    "# load table \"test\" on DolphinDB server \n",
    "print(s.loadTable(\"test\").toDF())"
   ]
  },
  {
   "cell_type": "markdown",
   "metadata": {},
   "source": [
    "#### 3 Load DolphinDB database tables\n",
    "\n",
    "#### 3.1 **loadTable**\n",
    "\n",
    "To load a table from a database, use function **loadTable**. Parameter **tableName** indicates the partitioned table name; **dbPath** is the database location. If **dbPath** is not specified, **loadTable** will load a DolphinDB table in memory whose name is specified in argument **tableName**.\n",
    "\n",
    "For a partitioned table: if parameter **memoryMode**=True, load all the data (or selected partitions if parameter **partitions** is specified) of the table into DolphinDB server memory as a partitioned table; if **memoryMode**=false, only load its metadata into DolphinDB server memory. \n",
    "\n",
    "#### 3.1.1 Load an entire table"
   ]
  },
  {
   "cell_type": "code",
   "execution_count": 16,
   "metadata": {},
   "outputs": [
    {
     "name": "stdout",
     "output_type": "stream",
     "text": [
      "select TICKER,date,VOL,PRC,BID,ASK from TMP_TBL_0ab8694b\n"
     ]
    },
    {
     "data": {
      "text/html": [
       "<div>\n",
       "<style scoped>\n",
       "    .dataframe tbody tr th:only-of-type {\n",
       "        vertical-align: middle;\n",
       "    }\n",
       "\n",
       "    .dataframe tbody tr th {\n",
       "        vertical-align: top;\n",
       "    }\n",
       "\n",
       "    .dataframe thead th {\n",
       "        text-align: right;\n",
       "    }\n",
       "</style>\n",
       "<table border=\"1\" class=\"dataframe\">\n",
       "  <thead>\n",
       "    <tr style=\"text-align: right;\">\n",
       "      <th></th>\n",
       "      <th>TICKER</th>\n",
       "      <th>date</th>\n",
       "      <th>VOL</th>\n",
       "      <th>PRC</th>\n",
       "      <th>BID</th>\n",
       "      <th>ASK</th>\n",
       "    </tr>\n",
       "  </thead>\n",
       "  <tbody>\n",
       "    <tr>\n",
       "      <th>0</th>\n",
       "      <td>AMZN</td>\n",
       "      <td>1997-05-15</td>\n",
       "      <td>6029815</td>\n",
       "      <td>23.5000</td>\n",
       "      <td>23.5000</td>\n",
       "      <td>23.6250</td>\n",
       "    </tr>\n",
       "    <tr>\n",
       "      <th>1</th>\n",
       "      <td>AMZN</td>\n",
       "      <td>1997-05-16</td>\n",
       "      <td>1232226</td>\n",
       "      <td>20.7500</td>\n",
       "      <td>20.5000</td>\n",
       "      <td>21.0000</td>\n",
       "    </tr>\n",
       "    <tr>\n",
       "      <th>2</th>\n",
       "      <td>AMZN</td>\n",
       "      <td>1997-05-19</td>\n",
       "      <td>512070</td>\n",
       "      <td>20.5000</td>\n",
       "      <td>20.5000</td>\n",
       "      <td>20.6250</td>\n",
       "    </tr>\n",
       "    <tr>\n",
       "      <th>3</th>\n",
       "      <td>AMZN</td>\n",
       "      <td>1997-05-20</td>\n",
       "      <td>456357</td>\n",
       "      <td>19.6250</td>\n",
       "      <td>19.6250</td>\n",
       "      <td>19.7500</td>\n",
       "    </tr>\n",
       "    <tr>\n",
       "      <th>4</th>\n",
       "      <td>AMZN</td>\n",
       "      <td>1997-05-21</td>\n",
       "      <td>1577414</td>\n",
       "      <td>17.1250</td>\n",
       "      <td>17.1250</td>\n",
       "      <td>17.2500</td>\n",
       "    </tr>\n",
       "    <tr>\n",
       "      <th>5</th>\n",
       "      <td>AMZN</td>\n",
       "      <td>1997-05-22</td>\n",
       "      <td>983855</td>\n",
       "      <td>16.7500</td>\n",
       "      <td>16.6250</td>\n",
       "      <td>16.7500</td>\n",
       "    </tr>\n",
       "    <tr>\n",
       "      <th>6</th>\n",
       "      <td>AMZN</td>\n",
       "      <td>1997-05-23</td>\n",
       "      <td>1330026</td>\n",
       "      <td>18.0000</td>\n",
       "      <td>18.0000</td>\n",
       "      <td>18.1250</td>\n",
       "    </tr>\n",
       "    <tr>\n",
       "      <th>7</th>\n",
       "      <td>AMZN</td>\n",
       "      <td>1997-05-27</td>\n",
       "      <td>726192</td>\n",
       "      <td>19.0000</td>\n",
       "      <td>19.0000</td>\n",
       "      <td>19.1250</td>\n",
       "    </tr>\n",
       "    <tr>\n",
       "      <th>8</th>\n",
       "      <td>AMZN</td>\n",
       "      <td>1997-05-28</td>\n",
       "      <td>382132</td>\n",
       "      <td>18.3750</td>\n",
       "      <td>18.3750</td>\n",
       "      <td>18.6250</td>\n",
       "    </tr>\n",
       "    <tr>\n",
       "      <th>9</th>\n",
       "      <td>AMZN</td>\n",
       "      <td>1997-05-29</td>\n",
       "      <td>289970</td>\n",
       "      <td>18.0625</td>\n",
       "      <td>18.0000</td>\n",
       "      <td>18.1250</td>\n",
       "    </tr>\n",
       "    <tr>\n",
       "      <th>10</th>\n",
       "      <td>AMZN</td>\n",
       "      <td>1997-05-30</td>\n",
       "      <td>216530</td>\n",
       "      <td>18.0000</td>\n",
       "      <td>18.0000</td>\n",
       "      <td>18.1250</td>\n",
       "    </tr>\n",
       "    <tr>\n",
       "      <th>11</th>\n",
       "      <td>AMZN</td>\n",
       "      <td>1997-06-02</td>\n",
       "      <td>49764</td>\n",
       "      <td>18.1250</td>\n",
       "      <td>18.1250</td>\n",
       "      <td>18.3750</td>\n",
       "    </tr>\n",
       "    <tr>\n",
       "      <th>12</th>\n",
       "      <td>AMZN</td>\n",
       "      <td>1997-06-03</td>\n",
       "      <td>99107</td>\n",
       "      <td>17.7500</td>\n",
       "      <td>17.7500</td>\n",
       "      <td>17.8750</td>\n",
       "    </tr>\n",
       "    <tr>\n",
       "      <th>13</th>\n",
       "      <td>AMZN</td>\n",
       "      <td>1997-06-04</td>\n",
       "      <td>257316</td>\n",
       "      <td>17.0000</td>\n",
       "      <td>17.0000</td>\n",
       "      <td>17.2500</td>\n",
       "    </tr>\n",
       "    <tr>\n",
       "      <th>14</th>\n",
       "      <td>AMZN</td>\n",
       "      <td>1997-06-05</td>\n",
       "      <td>473301</td>\n",
       "      <td>18.5000</td>\n",
       "      <td>18.3750</td>\n",
       "      <td>18.5000</td>\n",
       "    </tr>\n",
       "    <tr>\n",
       "      <th>15</th>\n",
       "      <td>AMZN</td>\n",
       "      <td>1997-06-06</td>\n",
       "      <td>651741</td>\n",
       "      <td>19.8750</td>\n",
       "      <td>19.8750</td>\n",
       "      <td>20.1250</td>\n",
       "    </tr>\n",
       "    <tr>\n",
       "      <th>16</th>\n",
       "      <td>AMZN</td>\n",
       "      <td>1997-06-09</td>\n",
       "      <td>196603</td>\n",
       "      <td>20.2500</td>\n",
       "      <td>20.1875</td>\n",
       "      <td>20.5000</td>\n",
       "    </tr>\n",
       "    <tr>\n",
       "      <th>17</th>\n",
       "      <td>AMZN</td>\n",
       "      <td>1997-06-10</td>\n",
       "      <td>455531</td>\n",
       "      <td>19.0000</td>\n",
       "      <td>19.0000</td>\n",
       "      <td>19.1250</td>\n",
       "    </tr>\n",
       "    <tr>\n",
       "      <th>18</th>\n",
       "      <td>AMZN</td>\n",
       "      <td>1997-06-11</td>\n",
       "      <td>99481</td>\n",
       "      <td>18.5000</td>\n",
       "      <td>18.3750</td>\n",
       "      <td>18.7500</td>\n",
       "    </tr>\n",
       "    <tr>\n",
       "      <th>19</th>\n",
       "      <td>AMZN</td>\n",
       "      <td>1997-06-12</td>\n",
       "      <td>136461</td>\n",
       "      <td>19.2500</td>\n",
       "      <td>19.2500</td>\n",
       "      <td>19.3125</td>\n",
       "    </tr>\n",
       "    <tr>\n",
       "      <th>20</th>\n",
       "      <td>AMZN</td>\n",
       "      <td>1997-06-13</td>\n",
       "      <td>58058</td>\n",
       "      <td>19.0000</td>\n",
       "      <td>19.0000</td>\n",
       "      <td>19.1875</td>\n",
       "    </tr>\n",
       "    <tr>\n",
       "      <th>21</th>\n",
       "      <td>AMZN</td>\n",
       "      <td>1997-06-16</td>\n",
       "      <td>76922</td>\n",
       "      <td>18.8750</td>\n",
       "      <td>18.7500</td>\n",
       "      <td>19.1250</td>\n",
       "    </tr>\n",
       "    <tr>\n",
       "      <th>22</th>\n",
       "      <td>AMZN</td>\n",
       "      <td>1997-06-17</td>\n",
       "      <td>393436</td>\n",
       "      <td>18.0625</td>\n",
       "      <td>18.0625</td>\n",
       "      <td>18.2500</td>\n",
       "    </tr>\n",
       "    <tr>\n",
       "      <th>23</th>\n",
       "      <td>AMZN</td>\n",
       "      <td>1997-06-18</td>\n",
       "      <td>206108</td>\n",
       "      <td>18.1250</td>\n",
       "      <td>18.0000</td>\n",
       "      <td>18.1250</td>\n",
       "    </tr>\n",
       "    <tr>\n",
       "      <th>24</th>\n",
       "      <td>AMZN</td>\n",
       "      <td>1997-06-19</td>\n",
       "      <td>84121</td>\n",
       "      <td>18.1250</td>\n",
       "      <td>18.1250</td>\n",
       "      <td>18.3750</td>\n",
       "    </tr>\n",
       "    <tr>\n",
       "      <th>25</th>\n",
       "      <td>AMZN</td>\n",
       "      <td>1997-06-20</td>\n",
       "      <td>282926</td>\n",
       "      <td>18.3125</td>\n",
       "      <td>18.2500</td>\n",
       "      <td>18.5000</td>\n",
       "    </tr>\n",
       "    <tr>\n",
       "      <th>26</th>\n",
       "      <td>AMZN</td>\n",
       "      <td>1997-06-23</td>\n",
       "      <td>88120</td>\n",
       "      <td>18.0000</td>\n",
       "      <td>17.7500</td>\n",
       "      <td>18.0000</td>\n",
       "    </tr>\n",
       "    <tr>\n",
       "      <th>27</th>\n",
       "      <td>AMZN</td>\n",
       "      <td>1997-06-24</td>\n",
       "      <td>62771</td>\n",
       "      <td>18.1250</td>\n",
       "      <td>18.1250</td>\n",
       "      <td>18.3125</td>\n",
       "    </tr>\n",
       "    <tr>\n",
       "      <th>28</th>\n",
       "      <td>AMZN</td>\n",
       "      <td>1997-06-25</td>\n",
       "      <td>176059</td>\n",
       "      <td>18.1250</td>\n",
       "      <td>18.1250</td>\n",
       "      <td>18.2500</td>\n",
       "    </tr>\n",
       "    <tr>\n",
       "      <th>29</th>\n",
       "      <td>AMZN</td>\n",
       "      <td>1997-06-26</td>\n",
       "      <td>266122</td>\n",
       "      <td>18.1250</td>\n",
       "      <td>18.1250</td>\n",
       "      <td>18.1875</td>\n",
       "    </tr>\n",
       "    <tr>\n",
       "      <th>...</th>\n",
       "      <td>...</td>\n",
       "      <td>...</td>\n",
       "      <td>...</td>\n",
       "      <td>...</td>\n",
       "      <td>...</td>\n",
       "      <td>...</td>\n",
       "    </tr>\n",
       "    <tr>\n",
       "      <th>13106</th>\n",
       "      <td>NVDA</td>\n",
       "      <td>2016-11-17</td>\n",
       "      <td>20836021</td>\n",
       "      <td>92.3900</td>\n",
       "      <td>92.3900</td>\n",
       "      <td>92.4100</td>\n",
       "    </tr>\n",
       "    <tr>\n",
       "      <th>13107</th>\n",
       "      <td>NVDA</td>\n",
       "      <td>2016-11-18</td>\n",
       "      <td>14401499</td>\n",
       "      <td>93.3600</td>\n",
       "      <td>93.3500</td>\n",
       "      <td>93.3600</td>\n",
       "    </tr>\n",
       "    <tr>\n",
       "      <th>13108</th>\n",
       "      <td>NVDA</td>\n",
       "      <td>2016-11-21</td>\n",
       "      <td>10910958</td>\n",
       "      <td>92.9800</td>\n",
       "      <td>92.9800</td>\n",
       "      <td>93.0100</td>\n",
       "    </tr>\n",
       "    <tr>\n",
       "      <th>13109</th>\n",
       "      <td>NVDA</td>\n",
       "      <td>2016-11-22</td>\n",
       "      <td>8259232</td>\n",
       "      <td>93.6500</td>\n",
       "      <td>93.6400</td>\n",
       "      <td>93.6500</td>\n",
       "    </tr>\n",
       "    <tr>\n",
       "      <th>13110</th>\n",
       "      <td>NVDA</td>\n",
       "      <td>2016-11-23</td>\n",
       "      <td>11081057</td>\n",
       "      <td>93.9700</td>\n",
       "      <td>93.9500</td>\n",
       "      <td>93.9700</td>\n",
       "    </tr>\n",
       "    <tr>\n",
       "      <th>13111</th>\n",
       "      <td>NVDA</td>\n",
       "      <td>2016-11-25</td>\n",
       "      <td>4889078</td>\n",
       "      <td>94.1600</td>\n",
       "      <td>94.1100</td>\n",
       "      <td>94.1600</td>\n",
       "    </tr>\n",
       "    <tr>\n",
       "      <th>13112</th>\n",
       "      <td>NVDA</td>\n",
       "      <td>2016-11-28</td>\n",
       "      <td>6968380</td>\n",
       "      <td>94.1100</td>\n",
       "      <td>94.1000</td>\n",
       "      <td>94.1100</td>\n",
       "    </tr>\n",
       "    <tr>\n",
       "      <th>13113</th>\n",
       "      <td>NVDA</td>\n",
       "      <td>2016-11-29</td>\n",
       "      <td>11114187</td>\n",
       "      <td>93.2500</td>\n",
       "      <td>93.2500</td>\n",
       "      <td>93.2700</td>\n",
       "    </tr>\n",
       "    <tr>\n",
       "      <th>13114</th>\n",
       "      <td>NVDA</td>\n",
       "      <td>2016-11-30</td>\n",
       "      <td>11012570</td>\n",
       "      <td>92.2000</td>\n",
       "      <td>92.2000</td>\n",
       "      <td>92.2200</td>\n",
       "    </tr>\n",
       "    <tr>\n",
       "      <th>13115</th>\n",
       "      <td>NVDA</td>\n",
       "      <td>2016-12-01</td>\n",
       "      <td>25893353</td>\n",
       "      <td>87.6400</td>\n",
       "      <td>87.6400</td>\n",
       "      <td>87.6500</td>\n",
       "    </tr>\n",
       "    <tr>\n",
       "      <th>13116</th>\n",
       "      <td>NVDA</td>\n",
       "      <td>2016-12-02</td>\n",
       "      <td>11957468</td>\n",
       "      <td>88.4500</td>\n",
       "      <td>88.4500</td>\n",
       "      <td>88.4700</td>\n",
       "    </tr>\n",
       "    <tr>\n",
       "      <th>13117</th>\n",
       "      <td>NVDA</td>\n",
       "      <td>2016-12-05</td>\n",
       "      <td>15067125</td>\n",
       "      <td>91.8800</td>\n",
       "      <td>91.8700</td>\n",
       "      <td>91.8800</td>\n",
       "    </tr>\n",
       "    <tr>\n",
       "      <th>13118</th>\n",
       "      <td>NVDA</td>\n",
       "      <td>2016-12-06</td>\n",
       "      <td>12469875</td>\n",
       "      <td>93.3900</td>\n",
       "      <td>93.3900</td>\n",
       "      <td>93.4000</td>\n",
       "    </tr>\n",
       "    <tr>\n",
       "      <th>13119</th>\n",
       "      <td>NVDA</td>\n",
       "      <td>2016-12-07</td>\n",
       "      <td>12020593</td>\n",
       "      <td>95.0700</td>\n",
       "      <td>95.0400</td>\n",
       "      <td>95.0700</td>\n",
       "    </tr>\n",
       "    <tr>\n",
       "      <th>13120</th>\n",
       "      <td>NVDA</td>\n",
       "      <td>2016-12-08</td>\n",
       "      <td>9538602</td>\n",
       "      <td>93.4800</td>\n",
       "      <td>93.4700</td>\n",
       "      <td>93.4900</td>\n",
       "    </tr>\n",
       "    <tr>\n",
       "      <th>13121</th>\n",
       "      <td>NVDA</td>\n",
       "      <td>2016-12-09</td>\n",
       "      <td>9557799</td>\n",
       "      <td>91.8200</td>\n",
       "      <td>91.8000</td>\n",
       "      <td>91.8200</td>\n",
       "    </tr>\n",
       "    <tr>\n",
       "      <th>13122</th>\n",
       "      <td>NVDA</td>\n",
       "      <td>2016-12-12</td>\n",
       "      <td>15033365</td>\n",
       "      <td>89.5900</td>\n",
       "      <td>89.5700</td>\n",
       "      <td>89.5900</td>\n",
       "    </tr>\n",
       "    <tr>\n",
       "      <th>13123</th>\n",
       "      <td>NVDA</td>\n",
       "      <td>2016-12-13</td>\n",
       "      <td>9694874</td>\n",
       "      <td>91.1700</td>\n",
       "      <td>91.1700</td>\n",
       "      <td>91.1900</td>\n",
       "    </tr>\n",
       "    <tr>\n",
       "      <th>13124</th>\n",
       "      <td>NVDA</td>\n",
       "      <td>2016-12-14</td>\n",
       "      <td>24599538</td>\n",
       "      <td>96.4500</td>\n",
       "      <td>96.4400</td>\n",
       "      <td>96.4600</td>\n",
       "    </tr>\n",
       "    <tr>\n",
       "      <th>13125</th>\n",
       "      <td>NVDA</td>\n",
       "      <td>2016-12-15</td>\n",
       "      <td>18663653</td>\n",
       "      <td>98.7100</td>\n",
       "      <td>98.7000</td>\n",
       "      <td>98.7200</td>\n",
       "    </tr>\n",
       "    <tr>\n",
       "      <th>13126</th>\n",
       "      <td>NVDA</td>\n",
       "      <td>2016-12-16</td>\n",
       "      <td>27238183</td>\n",
       "      <td>100.4100</td>\n",
       "      <td>100.3900</td>\n",
       "      <td>100.4000</td>\n",
       "    </tr>\n",
       "    <tr>\n",
       "      <th>13127</th>\n",
       "      <td>NVDA</td>\n",
       "      <td>2016-12-19</td>\n",
       "      <td>18616956</td>\n",
       "      <td>101.6300</td>\n",
       "      <td>101.6500</td>\n",
       "      <td>101.6600</td>\n",
       "    </tr>\n",
       "    <tr>\n",
       "      <th>13128</th>\n",
       "      <td>NVDA</td>\n",
       "      <td>2016-12-20</td>\n",
       "      <td>21201433</td>\n",
       "      <td>105.1700</td>\n",
       "      <td>105.1700</td>\n",
       "      <td>105.1800</td>\n",
       "    </tr>\n",
       "    <tr>\n",
       "      <th>13129</th>\n",
       "      <td>NVDA</td>\n",
       "      <td>2016-12-21</td>\n",
       "      <td>14403361</td>\n",
       "      <td>105.8300</td>\n",
       "      <td>105.8200</td>\n",
       "      <td>105.8400</td>\n",
       "    </tr>\n",
       "    <tr>\n",
       "      <th>13130</th>\n",
       "      <td>NVDA</td>\n",
       "      <td>2016-12-22</td>\n",
       "      <td>17965259</td>\n",
       "      <td>107.1100</td>\n",
       "      <td>107.0900</td>\n",
       "      <td>107.1100</td>\n",
       "    </tr>\n",
       "    <tr>\n",
       "      <th>13131</th>\n",
       "      <td>NVDA</td>\n",
       "      <td>2016-12-23</td>\n",
       "      <td>16193331</td>\n",
       "      <td>109.7800</td>\n",
       "      <td>109.7700</td>\n",
       "      <td>109.7900</td>\n",
       "    </tr>\n",
       "    <tr>\n",
       "      <th>13132</th>\n",
       "      <td>NVDA</td>\n",
       "      <td>2016-12-27</td>\n",
       "      <td>29857132</td>\n",
       "      <td>117.3200</td>\n",
       "      <td>117.3100</td>\n",
       "      <td>117.3200</td>\n",
       "    </tr>\n",
       "    <tr>\n",
       "      <th>13133</th>\n",
       "      <td>NVDA</td>\n",
       "      <td>2016-12-28</td>\n",
       "      <td>57384116</td>\n",
       "      <td>109.2500</td>\n",
       "      <td>109.2500</td>\n",
       "      <td>109.2900</td>\n",
       "    </tr>\n",
       "    <tr>\n",
       "      <th>13134</th>\n",
       "      <td>NVDA</td>\n",
       "      <td>2016-12-29</td>\n",
       "      <td>54384676</td>\n",
       "      <td>111.4300</td>\n",
       "      <td>111.2600</td>\n",
       "      <td>111.4200</td>\n",
       "    </tr>\n",
       "    <tr>\n",
       "      <th>13135</th>\n",
       "      <td>NVDA</td>\n",
       "      <td>2016-12-30</td>\n",
       "      <td>30323259</td>\n",
       "      <td>106.7400</td>\n",
       "      <td>106.7300</td>\n",
       "      <td>106.7500</td>\n",
       "    </tr>\n",
       "  </tbody>\n",
       "</table>\n",
       "<p>13136 rows × 6 columns</p>\n",
       "</div>"
      ],
      "text/plain": [
       "      TICKER       date       VOL       PRC       BID       ASK\n",
       "0       AMZN 1997-05-15   6029815   23.5000   23.5000   23.6250\n",
       "1       AMZN 1997-05-16   1232226   20.7500   20.5000   21.0000\n",
       "2       AMZN 1997-05-19    512070   20.5000   20.5000   20.6250\n",
       "3       AMZN 1997-05-20    456357   19.6250   19.6250   19.7500\n",
       "4       AMZN 1997-05-21   1577414   17.1250   17.1250   17.2500\n",
       "5       AMZN 1997-05-22    983855   16.7500   16.6250   16.7500\n",
       "6       AMZN 1997-05-23   1330026   18.0000   18.0000   18.1250\n",
       "7       AMZN 1997-05-27    726192   19.0000   19.0000   19.1250\n",
       "8       AMZN 1997-05-28    382132   18.3750   18.3750   18.6250\n",
       "9       AMZN 1997-05-29    289970   18.0625   18.0000   18.1250\n",
       "10      AMZN 1997-05-30    216530   18.0000   18.0000   18.1250\n",
       "11      AMZN 1997-06-02     49764   18.1250   18.1250   18.3750\n",
       "12      AMZN 1997-06-03     99107   17.7500   17.7500   17.8750\n",
       "13      AMZN 1997-06-04    257316   17.0000   17.0000   17.2500\n",
       "14      AMZN 1997-06-05    473301   18.5000   18.3750   18.5000\n",
       "15      AMZN 1997-06-06    651741   19.8750   19.8750   20.1250\n",
       "16      AMZN 1997-06-09    196603   20.2500   20.1875   20.5000\n",
       "17      AMZN 1997-06-10    455531   19.0000   19.0000   19.1250\n",
       "18      AMZN 1997-06-11     99481   18.5000   18.3750   18.7500\n",
       "19      AMZN 1997-06-12    136461   19.2500   19.2500   19.3125\n",
       "20      AMZN 1997-06-13     58058   19.0000   19.0000   19.1875\n",
       "21      AMZN 1997-06-16     76922   18.8750   18.7500   19.1250\n",
       "22      AMZN 1997-06-17    393436   18.0625   18.0625   18.2500\n",
       "23      AMZN 1997-06-18    206108   18.1250   18.0000   18.1250\n",
       "24      AMZN 1997-06-19     84121   18.1250   18.1250   18.3750\n",
       "25      AMZN 1997-06-20    282926   18.3125   18.2500   18.5000\n",
       "26      AMZN 1997-06-23     88120   18.0000   17.7500   18.0000\n",
       "27      AMZN 1997-06-24     62771   18.1250   18.1250   18.3125\n",
       "28      AMZN 1997-06-25    176059   18.1250   18.1250   18.2500\n",
       "29      AMZN 1997-06-26    266122   18.1250   18.1250   18.1875\n",
       "...      ...        ...       ...       ...       ...       ...\n",
       "13106   NVDA 2016-11-17  20836021   92.3900   92.3900   92.4100\n",
       "13107   NVDA 2016-11-18  14401499   93.3600   93.3500   93.3600\n",
       "13108   NVDA 2016-11-21  10910958   92.9800   92.9800   93.0100\n",
       "13109   NVDA 2016-11-22   8259232   93.6500   93.6400   93.6500\n",
       "13110   NVDA 2016-11-23  11081057   93.9700   93.9500   93.9700\n",
       "13111   NVDA 2016-11-25   4889078   94.1600   94.1100   94.1600\n",
       "13112   NVDA 2016-11-28   6968380   94.1100   94.1000   94.1100\n",
       "13113   NVDA 2016-11-29  11114187   93.2500   93.2500   93.2700\n",
       "13114   NVDA 2016-11-30  11012570   92.2000   92.2000   92.2200\n",
       "13115   NVDA 2016-12-01  25893353   87.6400   87.6400   87.6500\n",
       "13116   NVDA 2016-12-02  11957468   88.4500   88.4500   88.4700\n",
       "13117   NVDA 2016-12-05  15067125   91.8800   91.8700   91.8800\n",
       "13118   NVDA 2016-12-06  12469875   93.3900   93.3900   93.4000\n",
       "13119   NVDA 2016-12-07  12020593   95.0700   95.0400   95.0700\n",
       "13120   NVDA 2016-12-08   9538602   93.4800   93.4700   93.4900\n",
       "13121   NVDA 2016-12-09   9557799   91.8200   91.8000   91.8200\n",
       "13122   NVDA 2016-12-12  15033365   89.5900   89.5700   89.5900\n",
       "13123   NVDA 2016-12-13   9694874   91.1700   91.1700   91.1900\n",
       "13124   NVDA 2016-12-14  24599538   96.4500   96.4400   96.4600\n",
       "13125   NVDA 2016-12-15  18663653   98.7100   98.7000   98.7200\n",
       "13126   NVDA 2016-12-16  27238183  100.4100  100.3900  100.4000\n",
       "13127   NVDA 2016-12-19  18616956  101.6300  101.6500  101.6600\n",
       "13128   NVDA 2016-12-20  21201433  105.1700  105.1700  105.1800\n",
       "13129   NVDA 2016-12-21  14403361  105.8300  105.8200  105.8400\n",
       "13130   NVDA 2016-12-22  17965259  107.1100  107.0900  107.1100\n",
       "13131   NVDA 2016-12-23  16193331  109.7800  109.7700  109.7900\n",
       "13132   NVDA 2016-12-27  29857132  117.3200  117.3100  117.3200\n",
       "13133   NVDA 2016-12-28  57384116  109.2500  109.2500  109.2900\n",
       "13134   NVDA 2016-12-29  54384676  111.4300  111.2600  111.4200\n",
       "13135   NVDA 2016-12-30  30323259  106.7400  106.7300  106.7500\n",
       "\n",
       "[13136 rows x 6 columns]"
      ]
     },
     "execution_count": 16,
     "metadata": {},
     "output_type": "execute_result"
    }
   ],
   "source": [
    "trade = s.loadTable(tableName=\"trade\",dbPath=WORK_DIR+\"/valuedb\")\n",
    "trade.toDF()"
   ]
  },
  {
   "cell_type": "markdown",
   "metadata": {},
   "source": [
    "#### 3.1.2 Load selected partitions\n",
    "\n",
    "To load only the \"AMZN\" partition:"
   ]
  },
  {
   "cell_type": "code",
   "execution_count": 17,
   "metadata": {},
   "outputs": [
    {
     "name": "stdout",
     "output_type": "stream",
     "text": [
      "select TICKER,date,VOL,PRC,BID,ASK from TMP_TBL_9399d101\n",
      "4941\n"
     ]
    }
   ],
   "source": [
    "trade = s.loadTable(tableName=\"trade\",dbPath=WORK_DIR+\"/valuedb\", partitions=\"AMZN\")\n",
    "print(trade.rows)"
   ]
  },
  {
   "cell_type": "markdown",
   "metadata": {},
   "source": [
    "#### 3.1.3 Load a partitioned table as in-memory table"
   ]
  },
  {
   "cell_type": "code",
   "execution_count": 18,
   "metadata": {},
   "outputs": [
    {
     "name": "stdout",
     "output_type": "stream",
     "text": [
      "select TICKER,date,VOL,PRC,BID,ASK from TMP_TBL_f72ea496\n",
      "8195\n"
     ]
    }
   ],
   "source": [
    "trade = s.loadTable(tableName=\"trade\",dbPath=WORK_DIR+\"/valuedb\", partitions=[\"NFLX\",\"NVDA\"], memoryMode=True)\n",
    "print(trade.rows)"
   ]
  },
  {
   "cell_type": "markdown",
   "metadata": {},
   "source": [
    "#### 3.2. **loadTableBySQL**\n",
    "\n",
    "Method **loadTableBySQL** imports data from an on-disk partitioned table into a in-memory partitioned table through a SQL query."
   ]
  },
  {
   "cell_type": "code",
   "execution_count": 19,
   "metadata": {},
   "outputs": [
    {
     "name": "stdout",
     "output_type": "stream",
     "text": [
      "select TICKER,date,VOL,PRC,BID,ASK from trade\n",
      "5286\n"
     ]
    }
   ],
   "source": [
    "import os\n",
    "if s.existsDatabase(WORK_DIR+\"/valuedb\"  or os.path.exists(WORK_DIR+\"/valuedb\")):\n",
    "    s.dropDatabase(WORK_DIR+\"/valuedb\")\n",
    "s.database(dbName='db', partitionType=ddb.VALUE, partitions=[\"AMZN\",\"NFLX\", \"NVDA\"], dbPath=WORK_DIR+\"/valuedb\")\n",
    "t = s.loadTextEx(\"db\",  tableName='trade',partitionColumns=[\"TICKER\"], filePath=WORK_DIR + \"/example.csv\")\n",
    "\n",
    "trade = s.loadTableBySQL(tableName=\"trade\", dbPath=WORK_DIR+\"/valuedb\", sql=\"select * from trade where date>2010.01.01\")\n",
    "print(trade.rows)"
   ]
  },
  {
   "cell_type": "markdown",
   "metadata": {},
   "source": [
    "#### 4 Databases and Tables\n",
    "\n",
    "#### 4.1 Database operations\n",
    "\n",
    "#### 4.1.1 Create a database\n",
    "\n",
    "To create a partitioned database, use session method **database**."
   ]
  },
  {
   "cell_type": "code",
   "execution_count": 20,
   "metadata": {},
   "outputs": [],
   "source": [
    "s.database('db', partitionType=ddb.VALUE, partitions=[\"AMZN\",\"NFLX\", \"NVDA\"], dbPath=WORK_DIR+\"/valuedb\")"
   ]
  },
  {
   "cell_type": "markdown",
   "metadata": {},
   "source": [
    "#### 4.1.2 Delete a database\n",
    "\n",
    "To delete a database, use session method **dropDatabase**. The following statement will drop a database if it exists."
   ]
  },
  {
   "cell_type": "code",
   "execution_count": 21,
   "metadata": {},
   "outputs": [],
   "source": [
    "if s.existsDatabase(WORK_DIR+\"/valuedb\"):\n",
    "    s.dropDatabase(WORK_DIR+\"/valuedb\")"
   ]
  },
  {
   "cell_type": "markdown",
   "metadata": {},
   "source": [
    "#### 4.1.3 Drop a DFS database partition\n",
    "\n",
    "To drop a DFS database partition, use session method **dropPartition**."
   ]
  },
  {
   "cell_type": "code",
   "execution_count": 22,
   "metadata": {},
   "outputs": [
    {
     "name": "stdout",
     "output_type": "stream",
     "text": [
      "select TICKER,date,VOL,PRC,BID,ASK from trade\n",
      "13136\n"
     ]
    }
   ],
   "source": [
    "if s.existsDatabase(\"dfs://valuedb\"):\n",
    "    s.dropDatabase(\"dfs://valuedb\")\n",
    "s.database('db', partitionType=ddb.VALUE, partitions=[\"AMZN\",\"NFLX\", \"NVDA\"], dbPath=\"dfs://valuedb\")\n",
    "trade=s.loadTextEx(dbPath=\"dfs://valuedb\", partitionColumns=[\"TICKER\"], tableName='trade', filePath=WORK_DIR + \"/example.csv\")\n",
    "print(trade.rows)"
   ]
  },
  {
   "cell_type": "code",
   "execution_count": 23,
   "metadata": {},
   "outputs": [
    {
     "name": "stdout",
     "output_type": "stream",
     "text": [
      "select TICKER,date,VOL,PRC,BID,ASK from TMP_TBL_d60f1baf\n",
      "4516\n"
     ]
    }
   ],
   "source": [
    "s.dropPartition(\"dfs://valuedb\", partitionPaths=[\"/AMZN\", \"/NFLX\"])\n",
    "trade = s.loadTable(tableName=\"trade\", dbPath=\"dfs://valuedb\")\n",
    "print(trade.rows)"
   ]
  },
  {
   "cell_type": "code",
   "execution_count": 24,
   "metadata": {},
   "outputs": [
    {
     "name": "stdout",
     "output_type": "stream",
     "text": [
      "select distinct TICKER from TMP_TBL_d60f1baf\n",
      "  distinct_TICKER\n",
      "0            NVDA\n"
     ]
    }
   ],
   "source": [
    "print(trade.select(\"distinct TICKER\").toDF())"
   ]
  },
  {
   "cell_type": "markdown",
   "metadata": {},
   "source": [
    "#### 4.2 Table operations\n",
    "\n",
    "#### 4.2.1 Load a database table\n",
    "\n",
    "Please see section 3.1. \n",
    "\n",
    "#### 4.2.2 Append to a table\n",
    "\n",
    "The following example appends to a partitioned table on disk. The appending changes the table on disk. To use the appended table, we need to load the table after appending. "
   ]
  },
  {
   "cell_type": "code",
   "execution_count": 27,
   "metadata": {},
   "outputs": [
    {
     "name": "stdout",
     "output_type": "stream",
     "text": [
      "select TICKER,date,VOL,PRC,BID,ASK from TMP_TBL_5ab66fb6\n",
      "13136\n"
     ]
    }
   ],
   "source": [
    "if s.existsDatabase(WORK_DIR+\"/valuedb\"):\n",
    "    s.dropDatabase(WORK_DIR+\"/valuedb\")\n",
    "s.database('db', partitionType=ddb.VALUE, partitions=[\"AMZN\",\"NFLX\", \"NVDA\"], dbPath=WORK_DIR+\"/valuedb\")\n",
    "trade = s.loadTextEx(\"db\",  tableName='trade',partitionColumns=[\"TICKER\"], filePath=WORK_DIR + \"/example.csv\")\n",
    "print(trade.rows)"
   ]
  },
  {
   "cell_type": "code",
   "execution_count": 28,
   "metadata": {},
   "outputs": [
    {
     "name": "stdout",
     "output_type": "stream",
     "text": [
      "select top 10 TICKER,date,VOL,PRC,BID,ASK from TMP_TBL_5ab66fb6\n",
      "top10=(select top 10 TICKER,date,VOL,PRC,BID,ASK from TMP_TBL_5ab66fb6)\n",
      "select TICKER,date,VOL,PRC,BID,ASK from TMP_TBL_c0a4567f\n",
      "13146\n"
     ]
    }
   ],
   "source": [
    "# take the top 10 rows of table \"trade\" on the DolphinDB server\n",
    "t = trade.top(10).executeAs(\"top10\")\n",
    "\n",
    "trade.append(t)\n",
    "\n",
    "# table \"trade\" needs to be reloaded in order to see the appended records\n",
    "trade = s.loadTable(tableName=\"trade\",dbPath=WORK_DIR+\"/valuedb\")\n",
    "print (trade.rows)"
   ]
  },
  {
   "cell_type": "markdown",
   "metadata": {},
   "source": [
    "The following example appends to an in-memory table. "
   ]
  },
  {
   "cell_type": "code",
   "execution_count": 29,
   "metadata": {},
   "outputs": [
    {
     "name": "stdout",
     "output_type": "stream",
     "text": [
      "select top 10 TICKER,date,VOL,PRC,BID,ASK from TMP_TBL_cbb4ab28\n",
      "top10=(select top 10 TICKER,date,VOL,PRC,BID,ASK from TMP_TBL_cbb4ab28)\n",
      "select TICKER,date,VOL,PRC,BID,ASK from TMP_TBL_cbb4ab28\n",
      "13146\n"
     ]
    }
   ],
   "source": [
    "trade=s.loadText(WORK_DIR+\"/example.csv\")\n",
    "t = trade.top(10).executeAs(\"top10\")\n",
    "t1=trade.append(t)\n",
    "\n",
    "print(t1.rows)"
   ]
  },
  {
   "cell_type": "markdown",
   "metadata": {},
   "source": [
    "#### 4.3 Update a table\n",
    "\n",
    "Function **update** can only be used on in-memory tables and must be followed by function **execute**. "
   ]
  },
  {
   "cell_type": "code",
   "execution_count": 30,
   "metadata": {},
   "outputs": [
    {
     "name": "stdout",
     "output_type": "stream",
     "text": [
      "update TMP_TBL_1f59fd5b set VOL=999999\n",
      "select TICKER,date,VOL,PRC,BID,ASK from TMP_TBL_1f59fd5b where ticker=`AMZN and VOL=999999\n",
      "     TICKER       date     VOL        PRC        BID        ASK\n",
      "0      AMZN 1997-05-15  999999   23.50000   23.50000   23.62500\n",
      "1      AMZN 1997-05-16  999999   20.75000   20.50000   21.00000\n",
      "2      AMZN 1997-05-19  999999   20.50000   20.50000   20.62500\n",
      "3      AMZN 1997-05-20  999999   19.62500   19.62500   19.75000\n",
      "4      AMZN 1997-05-21  999999   17.12500   17.12500   17.25000\n",
      "5      AMZN 1997-05-22  999999   16.75000   16.62500   16.75000\n",
      "6      AMZN 1997-05-23  999999   18.00000   18.00000   18.12500\n",
      "7      AMZN 1997-05-27  999999   19.00000   19.00000   19.12500\n",
      "8      AMZN 1997-05-28  999999   18.37500   18.37500   18.62500\n",
      "9      AMZN 1997-05-29  999999   18.06250   18.00000   18.12500\n",
      "10     AMZN 1997-05-30  999999   18.00000   18.00000   18.12500\n",
      "11     AMZN 1997-06-02  999999   18.12500   18.12500   18.37500\n",
      "12     AMZN 1997-06-03  999999   17.75000   17.75000   17.87500\n",
      "13     AMZN 1997-06-04  999999   17.00000   17.00000   17.25000\n",
      "14     AMZN 1997-06-05  999999   18.50000   18.37500   18.50000\n",
      "15     AMZN 1997-06-06  999999   19.87500   19.87500   20.12500\n",
      "16     AMZN 1997-06-09  999999   20.25000   20.18750   20.50000\n",
      "17     AMZN 1997-06-10  999999   19.00000   19.00000   19.12500\n",
      "18     AMZN 1997-06-11  999999   18.50000   18.37500   18.75000\n",
      "19     AMZN 1997-06-12  999999   19.25000   19.25000   19.31250\n",
      "20     AMZN 1997-06-13  999999   19.00000   19.00000   19.18750\n",
      "21     AMZN 1997-06-16  999999   18.87500   18.75000   19.12500\n",
      "22     AMZN 1997-06-17  999999   18.06250   18.06250   18.25000\n",
      "23     AMZN 1997-06-18  999999   18.12500   18.00000   18.12500\n",
      "24     AMZN 1997-06-19  999999   18.12500   18.12500   18.37500\n",
      "25     AMZN 1997-06-20  999999   18.31250   18.25000   18.50000\n",
      "26     AMZN 1997-06-23  999999   18.00000   17.75000   18.00000\n",
      "27     AMZN 1997-06-24  999999   18.12500   18.12500   18.31250\n",
      "28     AMZN 1997-06-25  999999   18.12500   18.12500   18.25000\n",
      "29     AMZN 1997-06-26  999999   18.12500   18.12500   18.18750\n",
      "...     ...        ...     ...        ...        ...        ...\n",
      "4921   AMZN 2016-12-02  999999  740.34003  740.29999  740.34003\n",
      "4922   AMZN 2016-12-05  999999  759.35999  759.35999  759.78003\n",
      "4923   AMZN 2016-12-06  999999  764.71997  764.56000  764.78998\n",
      "4924   AMZN 2016-12-07  999999  770.41998  770.21997  770.41998\n",
      "4925   AMZN 2016-12-08  999999  767.33002  767.19000  767.28998\n",
      "4926   AMZN 2016-12-09  999999  768.65997  768.64001  768.65997\n",
      "4927   AMZN 2016-12-12  999999  760.12000  759.88000  759.96002\n",
      "4928   AMZN 2016-12-13  999999  774.34003  774.33002  774.40002\n",
      "4929   AMZN 2016-12-14  999999  768.82001  768.81000  769.06000\n",
      "4930   AMZN 2016-12-15  999999  761.00000  760.65002  760.87000\n",
      "4931   AMZN 2016-12-16  999999  757.77002  757.65002  757.83002\n",
      "4932   AMZN 2016-12-19  999999  766.00000  766.00000  766.08002\n",
      "4933   AMZN 2016-12-20  999999  771.21997  771.21002  771.21997\n",
      "4934   AMZN 2016-12-21  999999  770.59998  770.47998  770.60999\n",
      "4935   AMZN 2016-12-22  999999  766.34003  766.07001  766.34998\n",
      "4936   AMZN 2016-12-23  999999  760.59003  760.33002  760.59003\n",
      "4937   AMZN 2016-12-27  999999  771.40002  771.40002  771.76001\n",
      "4938   AMZN 2016-12-28  999999  772.13000  771.92999  772.15997\n",
      "4939   AMZN 2016-12-29  999999  765.15002  764.66998  765.15997\n",
      "4940   AMZN 2016-12-30  999999  749.87000  750.02002  750.40002\n",
      "4941   AMZN 1997-05-15  999999   23.50000   23.50000   23.62500\n",
      "4942   AMZN 1997-05-16  999999   20.75000   20.50000   21.00000\n",
      "4943   AMZN 1997-05-19  999999   20.50000   20.50000   20.62500\n",
      "4944   AMZN 1997-05-20  999999   19.62500   19.62500   19.75000\n",
      "4945   AMZN 1997-05-21  999999   17.12500   17.12500   17.25000\n",
      "4946   AMZN 1997-05-22  999999   16.75000   16.62500   16.75000\n",
      "4947   AMZN 1997-05-23  999999   18.00000   18.00000   18.12500\n",
      "4948   AMZN 1997-05-27  999999   19.00000   19.00000   19.12500\n",
      "4949   AMZN 1997-05-28  999999   18.37500   18.37500   18.62500\n",
      "4950   AMZN 1997-05-29  999999   18.06250   18.00000   18.12500\n",
      "\n",
      "[4951 rows x 6 columns]\n"
     ]
    }
   ],
   "source": [
    "trade = s.loadTable(tableName=\"trade\", dbPath=WORK_DIR+\"/valuedb\", memoryMode=True)\n",
    "trade = trade.update([\"VOL\"],[\"999999\"]).where(\"TICKER=`AMZN\").where([\"date=2015.12.16\"]).execute()\n",
    "t1=trade.where(\"ticker=`AMZN\").where(\"VOL=999999\")\n",
    "print(t1.toDF())"
   ]
  },
  {
   "cell_type": "markdown",
   "metadata": {},
   "source": [
    "#### 4.4 Delete records from a table\n",
    "\n",
    "Function **delete** must be followed by function **execute** to delete records from a table."
   ]
  },
  {
   "cell_type": "code",
   "execution_count": 31,
   "metadata": {},
   "outputs": [
    {
     "name": "stdout",
     "output_type": "stream",
     "text": [
      "select TICKER,date,VOL,PRC,BID,ASK from TMP_TBL_6384cd5c\n",
      "3024\n"
     ]
    }
   ],
   "source": [
    "trade = s.loadTable(tableName=\"trade\", dbPath=WORK_DIR+\"/valuedb\", memoryMode=True)\n",
    "trade.delete().where('date<2013.01.01').execute()\n",
    "print(trade.rows)"
   ]
  },
  {
   "cell_type": "markdown",
   "metadata": {},
   "source": [
    "#### 4.5 Delete table columns"
   ]
  },
  {
   "cell_type": "code",
   "execution_count": 32,
   "metadata": {},
   "outputs": [
    {
     "name": "stdout",
     "output_type": "stream",
     "text": [
      "select top 5 TICKER,date,VOL,PRC from TMP_TBL_3a01e960\n",
      "  TICKER       date      VOL     PRC\n",
      "0   AMZN 1997-05-15  6029815  23.500\n",
      "1   AMZN 1997-05-16  1232226  20.750\n",
      "2   AMZN 1997-05-19   512070  20.500\n",
      "3   AMZN 1997-05-20   456357  19.625\n",
      "4   AMZN 1997-05-21  1577414  17.125\n"
     ]
    }
   ],
   "source": [
    "trade = s.loadTable(tableName=\"trade\", dbPath=WORK_DIR + \"/valuedb\", memoryMode=True)\n",
    "t1=trade.drop(['ask', 'bid'])\n",
    "print(t1.top(5).toDF())"
   ]
  },
  {
   "cell_type": "markdown",
   "metadata": {},
   "source": [
    "#### 4.6 Drop a table"
   ]
  },
  {
   "cell_type": "code",
   "execution_count": null,
   "metadata": {},
   "outputs": [],
   "source": [
    "s.dropTable(WORK_DIR + \"/valuedb\", \"trade\")"
   ]
  },
  {
   "cell_type": "markdown",
   "metadata": {},
   "source": [
    "#### 5 SQL query\n",
    "\n",
    "DolphinDB's table class supports method chaining to generate SQL statements.\n",
    "\n",
    "#### 5.1 **select**\n",
    "\n",
    "#### 5.1.1 A list of column names as input"
   ]
  },
  {
   "cell_type": "code",
   "execution_count": 33,
   "metadata": {},
   "outputs": [
    {
     "name": "stdout",
     "output_type": "stream",
     "text": [
      "select ticker,date,bid,ask,prc,vol from TMP_TBL_2503c622\n",
      "      ticker       date       bid       ask       prc       vol\n",
      "0       AMZN 1997-05-15   23.5000   23.6250   23.5000   6029815\n",
      "1       AMZN 1997-05-16   20.5000   21.0000   20.7500   1232226\n",
      "2       AMZN 1997-05-19   20.5000   20.6250   20.5000    512070\n",
      "3       AMZN 1997-05-20   19.6250   19.7500   19.6250    456357\n",
      "4       AMZN 1997-05-21   17.1250   17.2500   17.1250   1577414\n",
      "5       AMZN 1997-05-22   16.6250   16.7500   16.7500    983855\n",
      "6       AMZN 1997-05-23   18.0000   18.1250   18.0000   1330026\n",
      "7       AMZN 1997-05-27   19.0000   19.1250   19.0000    726192\n",
      "8       AMZN 1997-05-28   18.3750   18.6250   18.3750    382132\n",
      "9       AMZN 1997-05-29   18.0000   18.1250   18.0625    289970\n",
      "10      AMZN 1997-05-30   18.0000   18.1250   18.0000    216530\n",
      "11      AMZN 1997-06-02   18.1250   18.3750   18.1250     49764\n",
      "12      AMZN 1997-06-03   17.7500   17.8750   17.7500     99107\n",
      "13      AMZN 1997-06-04   17.0000   17.2500   17.0000    257316\n",
      "14      AMZN 1997-06-05   18.3750   18.5000   18.5000    473301\n",
      "15      AMZN 1997-06-06   19.8750   20.1250   19.8750    651741\n",
      "16      AMZN 1997-06-09   20.1875   20.5000   20.2500    196603\n",
      "17      AMZN 1997-06-10   19.0000   19.1250   19.0000    455531\n",
      "18      AMZN 1997-06-11   18.3750   18.7500   18.5000     99481\n",
      "19      AMZN 1997-06-12   19.2500   19.3125   19.2500    136461\n",
      "20      AMZN 1997-06-13   19.0000   19.1875   19.0000     58058\n",
      "21      AMZN 1997-06-16   18.7500   19.1250   18.8750     76922\n",
      "22      AMZN 1997-06-17   18.0625   18.2500   18.0625    393436\n",
      "23      AMZN 1997-06-18   18.0000   18.1250   18.1250    206108\n",
      "24      AMZN 1997-06-19   18.1250   18.3750   18.1250     84121\n",
      "25      AMZN 1997-06-20   18.2500   18.5000   18.3125    282926\n",
      "26      AMZN 1997-06-23   17.7500   18.0000   18.0000     88120\n",
      "27      AMZN 1997-06-24   18.1250   18.3125   18.1250     62771\n",
      "28      AMZN 1997-06-25   18.1250   18.2500   18.1250    176059\n",
      "29      AMZN 1997-06-26   18.1250   18.1875   18.1250    266122\n",
      "...      ...        ...       ...       ...       ...       ...\n",
      "13116   NVDA 2016-11-17   92.3900   92.4100   92.3900  20836021\n",
      "13117   NVDA 2016-11-18   93.3500   93.3600   93.3600  14401499\n",
      "13118   NVDA 2016-11-21   92.9800   93.0100   92.9800  10910958\n",
      "13119   NVDA 2016-11-22   93.6400   93.6500   93.6500   8259232\n",
      "13120   NVDA 2016-11-23   93.9500   93.9700   93.9700  11081057\n",
      "13121   NVDA 2016-11-25   94.1100   94.1600   94.1600   4889078\n",
      "13122   NVDA 2016-11-28   94.1000   94.1100   94.1100   6968380\n",
      "13123   NVDA 2016-11-29   93.2500   93.2700   93.2500  11114187\n",
      "13124   NVDA 2016-11-30   92.2000   92.2200   92.2000  11012570\n",
      "13125   NVDA 2016-12-01   87.6400   87.6500   87.6400  25893353\n",
      "13126   NVDA 2016-12-02   88.4500   88.4700   88.4500  11957468\n",
      "13127   NVDA 2016-12-05   91.8700   91.8800   91.8800  15067125\n",
      "13128   NVDA 2016-12-06   93.3900   93.4000   93.3900  12469875\n",
      "13129   NVDA 2016-12-07   95.0400   95.0700   95.0700  12020593\n",
      "13130   NVDA 2016-12-08   93.4700   93.4900   93.4800   9538602\n",
      "13131   NVDA 2016-12-09   91.8000   91.8200   91.8200   9557799\n",
      "13132   NVDA 2016-12-12   89.5700   89.5900   89.5900  15033365\n",
      "13133   NVDA 2016-12-13   91.1700   91.1900   91.1700   9694874\n",
      "13134   NVDA 2016-12-14   96.4400   96.4600   96.4500  24599538\n",
      "13135   NVDA 2016-12-15   98.7000   98.7200   98.7100  18663653\n",
      "13136   NVDA 2016-12-16  100.3900  100.4000  100.4100  27238183\n",
      "13137   NVDA 2016-12-19  101.6500  101.6600  101.6300  18616956\n",
      "13138   NVDA 2016-12-20  105.1700  105.1800  105.1700  21201433\n",
      "13139   NVDA 2016-12-21  105.8200  105.8400  105.8300  14403361\n",
      "13140   NVDA 2016-12-22  107.0900  107.1100  107.1100  17965259\n",
      "13141   NVDA 2016-12-23  109.7700  109.7900  109.7800  16193331\n",
      "13142   NVDA 2016-12-27  117.3100  117.3200  117.3200  29857132\n",
      "13143   NVDA 2016-12-28  109.2500  109.2900  109.2500  57384116\n",
      "13144   NVDA 2016-12-29  111.2600  111.4200  111.4300  54384676\n",
      "13145   NVDA 2016-12-30  106.7300  106.7500  106.7400  30323259\n",
      "\n",
      "[13146 rows x 6 columns]\n"
     ]
    }
   ],
   "source": [
    "trade = s.loadTable(tableName=\"trade\",dbPath=WORK_DIR+\"/valuedb\", memoryMode=True)\n",
    "print(trade.select(['ticker','date','bid','ask','prc','vol']).toDF())"
   ]
  },
  {
   "cell_type": "markdown",
   "metadata": {},
   "source": [
    "We can use the **showSQL** method to display the SQL statement."
   ]
  },
  {
   "cell_type": "code",
   "execution_count": 34,
   "metadata": {},
   "outputs": [
    {
     "name": "stdout",
     "output_type": "stream",
     "text": [
      "select ticker,date,bid,ask,prc,vol from TMP_TBL_2503c622 where date=2012.09.06 and vol<10000000\n",
      "select ticker,date,bid,ask,prc,vol from TMP_TBL_2503c622 where date=2012.09.06 and vol<10000000\n"
     ]
    }
   ],
   "source": [
    "print(trade.select(['ticker','date','bid','ask','prc','vol']).where(\"date=2012.09.06\").where(\"vol<10000000\").showSQL())"
   ]
  },
  {
   "cell_type": "markdown",
   "metadata": {},
   "source": [
    "#### 5.1.2 String as input"
   ]
  },
  {
   "cell_type": "code",
   "execution_count": 35,
   "metadata": {},
   "outputs": [
    {
     "name": "stdout",
     "output_type": "stream",
     "text": [
      "select ticker,date,bid,ask,prc,vol from TMP_TBL_2503c622 where date=2012.09.06 and vol<10000000\n",
      "  ticker       date        bid     ask     prc      vol\n",
      "0   AMZN 2012-09-06  251.42999  251.56  251.38  5657816\n",
      "1   NFLX 2012-09-06   56.65000   56.66   56.65  5368963\n"
     ]
    }
   ],
   "source": [
    "print(trade.select(\"ticker,date,bid,ask,prc,vol\").where(\"date=2012.09.06\").where(\"vol<10000000\").toDF())"
   ]
  },
  {
   "cell_type": "markdown",
   "metadata": {},
   "source": [
    "#### 5.2 **top**\n",
    "\n",
    "Get the top records in a table."
   ]
  },
  {
   "cell_type": "code",
   "execution_count": 36,
   "metadata": {},
   "outputs": [
    {
     "name": "stdout",
     "output_type": "stream",
     "text": [
      "select top 5 TICKER,date,VOL,PRC,BID,ASK from TMP_TBL_96f449fc\n"
     ]
    },
    {
     "data": {
      "text/html": [
       "<div>\n",
       "<style scoped>\n",
       "    .dataframe tbody tr th:only-of-type {\n",
       "        vertical-align: middle;\n",
       "    }\n",
       "\n",
       "    .dataframe tbody tr th {\n",
       "        vertical-align: top;\n",
       "    }\n",
       "\n",
       "    .dataframe thead th {\n",
       "        text-align: right;\n",
       "    }\n",
       "</style>\n",
       "<table border=\"1\" class=\"dataframe\">\n",
       "  <thead>\n",
       "    <tr style=\"text-align: right;\">\n",
       "      <th></th>\n",
       "      <th>TICKER</th>\n",
       "      <th>date</th>\n",
       "      <th>VOL</th>\n",
       "      <th>PRC</th>\n",
       "      <th>BID</th>\n",
       "      <th>ASK</th>\n",
       "    </tr>\n",
       "  </thead>\n",
       "  <tbody>\n",
       "    <tr>\n",
       "      <th>0</th>\n",
       "      <td>AMZN</td>\n",
       "      <td>1997-05-15</td>\n",
       "      <td>6029815</td>\n",
       "      <td>23.500</td>\n",
       "      <td>23.500</td>\n",
       "      <td>23.625</td>\n",
       "    </tr>\n",
       "    <tr>\n",
       "      <th>1</th>\n",
       "      <td>AMZN</td>\n",
       "      <td>1997-05-16</td>\n",
       "      <td>1232226</td>\n",
       "      <td>20.750</td>\n",
       "      <td>20.500</td>\n",
       "      <td>21.000</td>\n",
       "    </tr>\n",
       "    <tr>\n",
       "      <th>2</th>\n",
       "      <td>AMZN</td>\n",
       "      <td>1997-05-19</td>\n",
       "      <td>512070</td>\n",
       "      <td>20.500</td>\n",
       "      <td>20.500</td>\n",
       "      <td>20.625</td>\n",
       "    </tr>\n",
       "    <tr>\n",
       "      <th>3</th>\n",
       "      <td>AMZN</td>\n",
       "      <td>1997-05-20</td>\n",
       "      <td>456357</td>\n",
       "      <td>19.625</td>\n",
       "      <td>19.625</td>\n",
       "      <td>19.750</td>\n",
       "    </tr>\n",
       "    <tr>\n",
       "      <th>4</th>\n",
       "      <td>AMZN</td>\n",
       "      <td>1997-05-21</td>\n",
       "      <td>1577414</td>\n",
       "      <td>17.125</td>\n",
       "      <td>17.125</td>\n",
       "      <td>17.250</td>\n",
       "    </tr>\n",
       "  </tbody>\n",
       "</table>\n",
       "</div>"
      ],
      "text/plain": [
       "  TICKER       date      VOL     PRC     BID     ASK\n",
       "0   AMZN 1997-05-15  6029815  23.500  23.500  23.625\n",
       "1   AMZN 1997-05-16  1232226  20.750  20.500  21.000\n",
       "2   AMZN 1997-05-19   512070  20.500  20.500  20.625\n",
       "3   AMZN 1997-05-20   456357  19.625  19.625  19.750\n",
       "4   AMZN 1997-05-21  1577414  17.125  17.125  17.250"
      ]
     },
     "execution_count": 36,
     "metadata": {},
     "output_type": "execute_result"
    }
   ],
   "source": [
    "trade = s.loadTable(tableName=\"trade\",dbPath=WORK_DIR+\"/valuedb\")\n",
    "trade.top(5).toDF()"
   ]
  },
  {
   "cell_type": "markdown",
   "metadata": {},
   "source": [
    "#### 5.3 **where**\n",
    "\n",
    "We can use **where** method to filter the selection.\n",
    "\n",
    "#### 5.3.1 method chaining\n",
    "\n",
    "We can use method chaining to apply multiple conditions."
   ]
  },
  {
   "cell_type": "code",
   "execution_count": 37,
   "metadata": {},
   "outputs": [
    {
     "name": "stdout",
     "output_type": "stream",
     "text": [
      "select date,bid,ask,prc,vol from TMP_TBL_d9a85fe4 where TICKER=`AMZN and bid!=NULL and ask!=NULL and vol>10000000 order by vol desc\n",
      "t1=(select date,bid,ask,prc,vol from TMP_TBL_d9a85fe4 where TICKER=`AMZN and bid!=NULL and ask!=NULL and vol>10000000 order by vol desc)\n",
      "select date,bid,ask,prc,vol from t1\n",
      "          date        bid        ask        prc        vol\n",
      "0   2007-04-25   56.80000   56.81000   56.81000  104463043\n",
      "1   1999-09-29   80.75000   80.81250   80.75000   80380734\n",
      "2   2006-07-26   26.17000   26.18000   26.26000   76996899\n",
      "3   2007-04-26   62.77000   62.83000   62.78100   62451660\n",
      "4   2005-02-03   35.74000   35.73000   35.75000   60580703\n",
      "5   2007-07-25   86.15000   86.18000   86.17990   60565477\n",
      "6   2009-10-23  118.51000  118.52000  118.49000   59460785\n",
      "7   2005-11-18   47.95000   47.90000   47.98000   59374260\n",
      "8   2002-01-22   12.60000   12.61000   12.60000   57235489\n",
      "9   2000-06-23   33.87500   33.93750   33.87500   52221978\n",
      "10  2001-11-26   12.16000   12.20000   12.21000   51543686\n",
      "11  2007-04-27   62.58000   62.60000   62.60100   50795877\n",
      "12  2001-11-28   11.57000   11.58000   11.59000   48788289\n",
      "13  2006-10-25   37.67000   37.70000   37.68000   46730051\n",
      "14  2005-07-27   43.63000   43.59000   43.65000   46113677\n",
      "15  2000-02-03   84.12500   84.18750   84.18750   44259436\n",
      "16  2010-07-23  118.87000  118.88000  118.87000   43202622\n",
      "17  2008-01-31   77.58000   77.63000   77.70000   43053220\n",
      "18  2007-05-23   69.00000   69.04000   69.00000   42671042\n",
      "19  1999-12-09  103.50000  103.62500  103.62500   42027565\n",
      "20  2007-10-23  100.90000  100.96000  100.82000   41763586\n",
      "21  2007-10-24   88.60000   88.70000   88.73000   41621772\n",
      "22  2009-01-30   58.82000   58.83000   58.82000   40672905\n",
      "23  2003-04-25   28.97000   28.96000   28.97000   40213457\n",
      "24  2010-02-01  118.68000  118.83000  118.87000   38873069\n",
      "25  2000-01-05   69.75000   69.81250   69.75000   38832833\n",
      "26  2007-05-21   68.31000   68.31000   68.30000   36554345\n",
      "27  1999-10-28   71.00000   71.00000   71.00000   36069850\n",
      "28  2004-07-23   40.00000   39.99000   39.98000   35945423\n",
      "29  2001-11-27   11.48000   11.49000   11.48000   34712960\n",
      "..         ...        ...        ...        ...        ...\n",
      "735 2010-01-08  133.53999  133.60001  133.52000   10135387\n",
      "736 2001-10-30    6.42000    6.43000    6.42000   10135220\n",
      "737 2010-11-29  179.49001  179.50999  179.49001   10127002\n",
      "738 1999-04-20  171.75000  172.00000  172.00000   10125345\n",
      "739 2000-12-05   25.31250   25.37500   25.37500   10124085\n",
      "740 2001-11-19    9.20000    9.20000    9.19000   10113553\n",
      "741 2010-06-30  109.26000  109.34000  109.26000   10112766\n",
      "742 2003-10-14   59.87000   59.87000   59.91000   10109432\n",
      "743 2008-05-27   80.59000   80.61000   80.62000   10104264\n",
      "744 2015-08-24  463.37000  463.89001  463.37000   10097601\n",
      "745 2010-02-08  116.75000  116.83000  116.83000   10096402\n",
      "746 2000-09-27   37.87500   38.00000   37.87500   10091772\n",
      "747 2007-05-10   60.89000   60.90000   60.92000   10087449\n",
      "748 2001-12-14   11.00000   11.01000   11.00000   10087333\n",
      "749 2012-03-27  205.44000  205.45000  205.44000   10085618\n",
      "750 2008-01-25   77.60000   77.64000   77.60000   10080819\n",
      "751 2015-01-21  297.26001  297.26999  297.25000   10076876\n",
      "752 2009-04-29   79.82000   79.88000   79.79000   10068713\n",
      "753 2009-05-07   79.22000   79.28000   79.28000   10059573\n",
      "754 2000-02-10   76.12500   76.18750   76.18750   10058378\n",
      "755 2004-07-08   49.49000   49.50000   49.50000   10054843\n",
      "756 2010-01-14  127.18000  127.37000  127.35000   10051608\n",
      "757 2009-12-01  138.50000  138.53000  138.50000   10050377\n",
      "758 2016-02-03  531.03003  531.07001  531.07001   10048729\n",
      "759 2009-03-03   61.68000   61.70000   61.70000   10048427\n",
      "760 2008-02-26   71.69000   71.72000   71.69000   10031203\n",
      "761 2009-04-27   83.12000   83.17000   83.12000   10030242\n",
      "762 2008-01-07   88.82000   88.84000   88.82000   10017305\n",
      "763 2010-02-18  118.08000  118.17000  118.08000   10010024\n",
      "764 2000-10-31   36.62500   36.68750   36.62500   10001970\n",
      "\n",
      "[765 rows x 5 columns]\n"
     ]
    }
   ],
   "source": [
    "trade = s.loadTable(tableName=\"trade\",dbPath=WORK_DIR+\"/valuedb\", memoryMode=True)\n",
    "\n",
    "# use chaining WHERE conditions and save result to DolphinDB server variable \"t1\" through function \"executeAs\"\n",
    "t1=trade.select(['date','bid','ask','prc','vol']).where('TICKER=`AMZN').where('bid!=NULL').where('ask!=NULL').where('vol>10000000').sort('vol desc').executeAs(\"t1\")\n",
    "print(t1.toDF())"
   ]
  },
  {
   "cell_type": "code",
   "execution_count": 38,
   "metadata": {},
   "outputs": [
    {
     "name": "stdout",
     "output_type": "stream",
     "text": [
      "select date,bid,ask,prc,vol from t1\n",
      "765\n"
     ]
    }
   ],
   "source": [
    "print(t1.rows)"
   ]
  },
  {
   "cell_type": "markdown",
   "metadata": {},
   "source": [
    "We can use the **showSQL** method to display the SQL statement."
   ]
  },
  {
   "cell_type": "code",
   "execution_count": 39,
   "metadata": {},
   "outputs": [
    {
     "name": "stdout",
     "output_type": "stream",
     "text": [
      "select date,bid,ask,prc,vol from TMP_TBL_d9a85fe4 where TICKER=`AMZN and bid!=NULL and ask!=NULL and vol>10000000 order by vol desc\n",
      "select date,bid,ask,prc,vol from TMP_TBL_d9a85fe4 where TICKER=`AMZN and bid!=NULL and ask!=NULL and vol>10000000 order by vol desc\n"
     ]
    }
   ],
   "source": [
    "print(trade.select(['date','bid','ask','prc','vol']).where('TICKER=`AMZN').where('bid!=NULL').where('ask!=NULL').where('vol>10000000').sort('vol desc').showSQL())"
   ]
  },
  {
   "cell_type": "markdown",
   "metadata": {},
   "source": [
    "#### 5.3.2 Use string as input\n",
    "\n",
    "We can pass a list of field names as a string to **select** method and conditions as string to **where** method."
   ]
  },
  {
   "cell_type": "code",
   "execution_count": 40,
   "metadata": {},
   "outputs": [
    {
     "name": "stdout",
     "output_type": "stream",
     "text": [
      "select ticker, date, vol from TMP_TBL_5647b914 where bid!=NULL, ask!=NULL, vol>50000000\n",
      "   ticker       date        vol\n",
      "0    AMZN 1999-09-29   80380734\n",
      "1    AMZN 2000-06-23   52221978\n",
      "2    AMZN 2001-11-26   51543686\n",
      "3    AMZN 2002-01-22   57235489\n",
      "4    AMZN 2005-02-03   60580703\n",
      "5    AMZN 2005-11-18   59374260\n",
      "6    AMZN 2006-07-26   76996899\n",
      "7    AMZN 2007-04-25  104463043\n",
      "8    AMZN 2007-04-26   62451660\n",
      "9    AMZN 2007-04-27   50795877\n",
      "10   AMZN 2007-07-25   60565477\n",
      "11   AMZN 2009-10-23   59460785\n",
      "12   NFLX 2015-07-16   63461015\n",
      "13   NFLX 2015-08-24   59952448\n",
      "14   NFLX 2016-01-20   53009419\n",
      "15   NFLX 2016-04-19   55728765\n",
      "16   NFLX 2016-07-19   55685209\n",
      "17   NVDA 2003-05-09   77604776\n",
      "18   NVDA 2008-02-14   54612850\n",
      "19   NVDA 2008-05-09   50758761\n",
      "20   NVDA 2008-07-03   74521639\n",
      "21   NVDA 2008-07-07   54965504\n",
      "22   NVDA 2008-08-13   52383250\n",
      "23   NVDA 2009-05-08   73520286\n",
      "24   NVDA 2009-12-07   68570708\n",
      "25   NVDA 2010-05-14   62518368\n",
      "26   NVDA 2010-07-29   66732862\n",
      "27   NVDA 2010-11-12   53795014\n",
      "28   NVDA 2011-01-06   87693472\n",
      "29   NVDA 2011-01-07   64810992\n",
      "30   NVDA 2011-01-11   68122689\n",
      "31   NVDA 2011-01-12   86197484\n",
      "32   NVDA 2011-01-13   67887504\n",
      "33   NVDA 2011-01-24   51793673\n",
      "34   NVDA 2011-02-17   87117555\n",
      "35   NVDA 2011-05-13   50859702\n",
      "36   NVDA 2011-08-12   80488616\n",
      "37   NVDA 2016-05-13   52651704\n",
      "38   NVDA 2016-11-11   54384267\n",
      "39   NVDA 2016-12-28   57384116\n",
      "40   NVDA 2016-12-29   54384676\n"
     ]
    }
   ],
   "source": [
    "trade = s.loadTable(tableName=\"trade\",dbPath=WORK_DIR+\"/valuedb\")\n",
    "print(trade.select(\"ticker, date, vol\").where(\"bid!=NULL, ask!=NULL, vol>50000000\").toDF())"
   ]
  },
  {
   "cell_type": "markdown",
   "metadata": {},
   "source": [
    "#### 5.4 **groupby**\n",
    "\n",
    "Method **groupby** must be followed by an aggregate function such as **count**, **sum**, **avg**, **std**, etc."
   ]
  },
  {
   "cell_type": "code",
   "execution_count": 42,
   "metadata": {},
   "outputs": [
    {
     "name": "stdout",
     "output_type": "stream",
     "text": [
      "select count(*) from TMP_TBL_53843eb3 group by ticker order by ticker desc\n",
      "select count(*) from TMP_TBL_53843eb3 group by ticker order by ticker desc\n",
      "  ticker  count\n",
      "0   NVDA   4516\n",
      "1   NFLX   3679\n",
      "2   AMZN   4941\n"
     ]
    }
   ],
   "source": [
    "if s.existsDatabase(WORK_DIR+\"/valuedb\"):\n",
    "    s.dropDatabase(WORK_DIR+\"/valuedb\")\n",
    "s.database('db', partitionType=ddb.VALUE, partitions=[\"AMZN\",\"NFLX\", \"NVDA\"], dbPath=WORK_DIR+\"/valuedb\")\n",
    "trade = s.loadTextEx(\"db\",  tableName='trade',partitionColumns=[\"TICKER\"], filePath=WORK_DIR + \"/example.csv\")\n",
    "print(trade.select('count(*)').groupby(['ticker']).sort(bys=['ticker desc']).toDF())"
   ]
  },
  {
   "cell_type": "markdown",
   "metadata": {},
   "source": [
    "Calculate the sum of columns \"vol\" and \"prc\" in \"ticker\" groups:"
   ]
  },
  {
   "cell_type": "code",
   "execution_count": 43,
   "metadata": {},
   "outputs": [
    {
     "name": "stdout",
     "output_type": "stream",
     "text": [
      "select sum(vol),sum(prc) from TMP_TBL_c260d6c5 group by ticker\n",
      "  ticker      sum_vol       sum_prc\n",
      "0   AMZN  33706396492  772503.81377\n",
      "1   NFLX  14928048887  421568.81674\n",
      "2   NVDA  46879603806  127139.51092\n"
     ]
    }
   ],
   "source": [
    "trade = s.loadTable(tableName=\"trade\",dbPath=WORK_DIR+\"/valuedb\")\n",
    "print(trade.select(['vol','prc']).groupby(['ticker']).sum().toDF())"
   ]
  },
  {
   "cell_type": "markdown",
   "metadata": {},
   "source": [
    "**groupby** can be used with with **having**:"
   ]
  },
  {
   "cell_type": "code",
   "execution_count": 44,
   "metadata": {},
   "outputs": [
    {
     "name": "stdout",
     "output_type": "stream",
     "text": [
      "select count(ask) from TMP_TBL_32800c60 group by vol having count(ask)>1\n",
      "       vol  count_ask\n",
      "0   579392          2\n",
      "1  3683504          2\n",
      "2  5732076          2\n",
      "3  6299736          2\n",
      "4  6438038          2\n",
      "5  6946976          2\n",
      "6  8160197          2\n",
      "7  8924303          2\n"
     ]
    }
   ],
   "source": [
    "trade = s.loadTable(tableName=\"trade\",dbPath=WORK_DIR+\"/valuedb\")\n",
    "print(trade.select('count(ask)').groupby(['vol']).having('count(ask)>1').toDF())"
   ]
  },
  {
   "cell_type": "markdown",
   "metadata": {},
   "source": [
    "#### 5.5 **contextby**\n",
    "\n",
    "**contextby** is similar to **groupby** except that for each group, **groupby** returns a scalar but **contextby** returns a vector of the same size as the group."
   ]
  },
  {
   "cell_type": "code",
   "execution_count": 45,
   "metadata": {},
   "outputs": [
    {
     "name": "stdout",
     "output_type": "stream",
     "text": [
      "select top 3 TICKER,date,VOL,PRC,BID,ASK from TMP_TBL_8d3cb617 context by ticker\n",
      "  TICKER       date      VOL      PRC      BID      ASK\n",
      "0   AMZN 1997-05-15  6029815  23.5000  23.5000  23.6250\n",
      "1   AMZN 1997-05-16  1232226  20.7500  20.5000  21.0000\n",
      "2   AMZN 1997-05-19   512070  20.5000  20.5000  20.6250\n",
      "3   NFLX 2002-05-23  7507079  16.7500  16.7500  16.8500\n",
      "4   NFLX 2002-05-24   797783  16.9400  16.9400  16.9500\n",
      "5   NFLX 2002-05-28   474866  16.2000  16.2000  16.3700\n",
      "6   NVDA 1999-01-22  5702636  19.6875  19.6250  19.6875\n",
      "7   NVDA 1999-01-25  1074571  21.7500  21.7500  21.8750\n",
      "8   NVDA 1999-01-26   719199  20.0625  20.0625  20.1250\n"
     ]
    }
   ],
   "source": [
    "df= s.loadTable(tableName=\"trade\",dbPath=WORK_DIR+\"/valuedb\").contextby('ticker').top(3).toDF()\n",
    "print(df)"
   ]
  },
  {
   "cell_type": "code",
   "execution_count": 47,
   "metadata": {},
   "outputs": [
    {
     "name": "stdout",
     "output_type": "stream",
     "text": [
      "select TICKER, month(date) as month, cumsum(VOL) from TMP_TBL_7c6571df context by TICKER,month(date)\n",
      "select TICKER, month(date) as month, cumsum(VOL) from TMP_TBL_7c6571df context by TICKER,month(date)\n",
      "      TICKER      month  cumsum_VOL\n",
      "0       AMZN 1997-05-01     6029815\n",
      "1       AMZN 1997-05-01     7262041\n",
      "2       AMZN 1997-05-01     7774111\n",
      "3       AMZN 1997-05-01     8230468\n",
      "4       AMZN 1997-05-01     9807882\n",
      "5       AMZN 1997-05-01    10791737\n",
      "6       AMZN 1997-05-01    12121763\n",
      "7       AMZN 1997-05-01    12847955\n",
      "8       AMZN 1997-05-01    13230087\n",
      "9       AMZN 1997-05-01    13520057\n",
      "10      AMZN 1997-05-01    13736587\n",
      "11      AMZN 1997-06-01       49764\n",
      "12      AMZN 1997-06-01      148871\n",
      "13      AMZN 1997-06-01      406187\n",
      "14      AMZN 1997-06-01      879488\n",
      "15      AMZN 1997-06-01     1531229\n",
      "16      AMZN 1997-06-01     1727832\n",
      "17      AMZN 1997-06-01     2183363\n",
      "18      AMZN 1997-06-01     2282844\n",
      "19      AMZN 1997-06-01     2419305\n",
      "20      AMZN 1997-06-01     2477363\n",
      "21      AMZN 1997-06-01     2554285\n",
      "22      AMZN 1997-06-01     2947721\n",
      "23      AMZN 1997-06-01     3153829\n",
      "24      AMZN 1997-06-01     3237950\n",
      "25      AMZN 1997-06-01     3520876\n",
      "26      AMZN 1997-06-01     3608996\n",
      "27      AMZN 1997-06-01     3671767\n",
      "28      AMZN 1997-06-01     3847826\n",
      "29      AMZN 1997-06-01     4113948\n",
      "...      ...        ...         ...\n",
      "13106   NVDA 2016-11-01   240634473\n",
      "13107   NVDA 2016-11-01   255035972\n",
      "13108   NVDA 2016-11-01   265946930\n",
      "13109   NVDA 2016-11-01   274206162\n",
      "13110   NVDA 2016-11-01   285287219\n",
      "13111   NVDA 2016-11-01   290176297\n",
      "13112   NVDA 2016-11-01   297144677\n",
      "13113   NVDA 2016-11-01   308258864\n",
      "13114   NVDA 2016-11-01   319271434\n",
      "13115   NVDA 2016-12-01    25893353\n",
      "13116   NVDA 2016-12-01    37850821\n",
      "13117   NVDA 2016-12-01    52917946\n",
      "13118   NVDA 2016-12-01    65387821\n",
      "13119   NVDA 2016-12-01    77408414\n",
      "13120   NVDA 2016-12-01    86947016\n",
      "13121   NVDA 2016-12-01    96504815\n",
      "13122   NVDA 2016-12-01   111538180\n",
      "13123   NVDA 2016-12-01   121233054\n",
      "13124   NVDA 2016-12-01   145832592\n",
      "13125   NVDA 2016-12-01   164496245\n",
      "13126   NVDA 2016-12-01   191734428\n",
      "13127   NVDA 2016-12-01   210351384\n",
      "13128   NVDA 2016-12-01   231552817\n",
      "13129   NVDA 2016-12-01   245956178\n",
      "13130   NVDA 2016-12-01   263921437\n",
      "13131   NVDA 2016-12-01   280114768\n",
      "13132   NVDA 2016-12-01   309971900\n",
      "13133   NVDA 2016-12-01   367356016\n",
      "13134   NVDA 2016-12-01   421740692\n",
      "13135   NVDA 2016-12-01   452063951\n",
      "\n",
      "[13136 rows x 3 columns]\n"
     ]
    }
   ],
   "source": [
    "df= s.loadTable(tableName=\"trade\",dbPath=WORK_DIR+\"/valuedb\").select(\"TICKER, month(date) as month, cumsum(VOL)\").contextby(\"TICKER,month(date)\").toDF()\n",
    "print(df)"
   ]
  },
  {
   "cell_type": "code",
   "execution_count": 48,
   "metadata": {},
   "outputs": [
    {
     "name": "stdout",
     "output_type": "stream",
     "text": [
      "select TICKER, month(date) as month, sum(VOL) from TMP_TBL_5c8d92b1 context by TICKER,month(date)\n",
      "select TICKER, month(date) as month, sum(VOL) from TMP_TBL_5c8d92b1 context by TICKER,month(date)\n",
      "      TICKER      month    sum_VOL\n",
      "0       AMZN 1997-05-01   13736587\n",
      "1       AMZN 1997-05-01   13736587\n",
      "2       AMZN 1997-05-01   13736587\n",
      "3       AMZN 1997-05-01   13736587\n",
      "4       AMZN 1997-05-01   13736587\n",
      "5       AMZN 1997-05-01   13736587\n",
      "6       AMZN 1997-05-01   13736587\n",
      "7       AMZN 1997-05-01   13736587\n",
      "8       AMZN 1997-05-01   13736587\n",
      "9       AMZN 1997-05-01   13736587\n",
      "10      AMZN 1997-05-01   13736587\n",
      "11      AMZN 1997-06-01    4445036\n",
      "12      AMZN 1997-06-01    4445036\n",
      "13      AMZN 1997-06-01    4445036\n",
      "14      AMZN 1997-06-01    4445036\n",
      "15      AMZN 1997-06-01    4445036\n",
      "16      AMZN 1997-06-01    4445036\n",
      "17      AMZN 1997-06-01    4445036\n",
      "18      AMZN 1997-06-01    4445036\n",
      "19      AMZN 1997-06-01    4445036\n",
      "20      AMZN 1997-06-01    4445036\n",
      "21      AMZN 1997-06-01    4445036\n",
      "22      AMZN 1997-06-01    4445036\n",
      "23      AMZN 1997-06-01    4445036\n",
      "24      AMZN 1997-06-01    4445036\n",
      "25      AMZN 1997-06-01    4445036\n",
      "26      AMZN 1997-06-01    4445036\n",
      "27      AMZN 1997-06-01    4445036\n",
      "28      AMZN 1997-06-01    4445036\n",
      "29      AMZN 1997-06-01    4445036\n",
      "...      ...        ...        ...\n",
      "13106   NVDA 2016-11-01  319271434\n",
      "13107   NVDA 2016-11-01  319271434\n",
      "13108   NVDA 2016-11-01  319271434\n",
      "13109   NVDA 2016-11-01  319271434\n",
      "13110   NVDA 2016-11-01  319271434\n",
      "13111   NVDA 2016-11-01  319271434\n",
      "13112   NVDA 2016-11-01  319271434\n",
      "13113   NVDA 2016-11-01  319271434\n",
      "13114   NVDA 2016-11-01  319271434\n",
      "13115   NVDA 2016-12-01  452063951\n",
      "13116   NVDA 2016-12-01  452063951\n",
      "13117   NVDA 2016-12-01  452063951\n",
      "13118   NVDA 2016-12-01  452063951\n",
      "13119   NVDA 2016-12-01  452063951\n",
      "13120   NVDA 2016-12-01  452063951\n",
      "13121   NVDA 2016-12-01  452063951\n",
      "13122   NVDA 2016-12-01  452063951\n",
      "13123   NVDA 2016-12-01  452063951\n",
      "13124   NVDA 2016-12-01  452063951\n",
      "13125   NVDA 2016-12-01  452063951\n",
      "13126   NVDA 2016-12-01  452063951\n",
      "13127   NVDA 2016-12-01  452063951\n",
      "13128   NVDA 2016-12-01  452063951\n",
      "13129   NVDA 2016-12-01  452063951\n",
      "13130   NVDA 2016-12-01  452063951\n",
      "13131   NVDA 2016-12-01  452063951\n",
      "13132   NVDA 2016-12-01  452063951\n",
      "13133   NVDA 2016-12-01  452063951\n",
      "13134   NVDA 2016-12-01  452063951\n",
      "13135   NVDA 2016-12-01  452063951\n",
      "\n",
      "[13136 rows x 3 columns]\n"
     ]
    }
   ],
   "source": [
    "df= s.loadTable(tableName=\"trade\",dbPath=WORK_DIR+\"/valuedb\").select(\"TICKER, month(date) as month, sum(VOL)\").contextby(\"TICKER,month(date)\").toDF()\n",
    "print(df)"
   ]
  },
  {
   "cell_type": "code",
   "execution_count": 49,
   "metadata": {},
   "outputs": [
    {
     "name": "stdout",
     "output_type": "stream",
     "text": [
      "select TICKER,date,VOL,PRC,BID,ASK from TMP_TBL_88c0cd00 context by ticker having sum(VOL)>40000000000\n",
      "     TICKER       date       VOL       PRC       BID       ASK\n",
      "0      NVDA 1999-01-22   5702636   19.6875   19.6250   19.6875\n",
      "1      NVDA 1999-01-25   1074571   21.7500   21.7500   21.8750\n",
      "2      NVDA 1999-01-26    719199   20.0625   20.0625   20.1250\n",
      "3      NVDA 1999-01-27    510637   20.0000   19.8750   20.0000\n",
      "4      NVDA 1999-01-28    476094   19.9375   19.8750   20.0000\n",
      "5      NVDA 1999-01-29    509718   19.0000   19.0000   19.3125\n",
      "6      NVDA 1999-02-01    324104   19.3750   19.3750   19.5000\n",
      "7      NVDA 1999-02-02    552383   17.8750   17.7500   17.8750\n",
      "8      NVDA 1999-02-03    157385   18.2500   18.2500   18.5000\n",
      "9      NVDA 1999-02-04    382986   19.2500   19.0000   19.3125\n",
      "10     NVDA 1999-02-05    286134   19.8125   19.8125   19.8750\n",
      "11     NVDA 1999-02-08    321818   19.1250   19.1250   19.1875\n",
      "12     NVDA 1999-02-09    181793   18.3750   18.3750   18.7500\n",
      "13     NVDA 1999-02-10    309200   18.1875   18.1250   18.5000\n",
      "14     NVDA 1999-02-11    276332   19.7500   19.6250   20.0000\n",
      "15     NVDA 1999-02-12    229719   20.8750   20.8750   20.9375\n",
      "16     NVDA 1999-02-16    442140   21.0000   20.2500   21.0000\n",
      "17     NVDA 1999-02-17    141592   19.8750   19.8750   20.1250\n",
      "18     NVDA 1999-02-18    147968   20.1875   20.0000   20.1875\n",
      "19     NVDA 1999-02-19    157816   20.8750   20.8750   21.0000\n",
      "20     NVDA 1999-02-22    428715   21.0000   21.0000   21.1250\n",
      "21     NVDA 1999-02-23    290019   22.0000   22.0000   22.3750\n",
      "22     NVDA 1999-02-24   1280829   23.7500   23.6250   23.7500\n",
      "23     NVDA 1999-02-25    313149   23.0000   22.8750   23.0000\n",
      "24     NVDA 1999-02-26    361012   21.9375   21.9375   22.0000\n",
      "25     NVDA 1999-03-01    193453   22.0625   21.7500   22.0625\n",
      "26     NVDA 1999-03-02    138285   21.8750   21.6875   21.8750\n",
      "27     NVDA 1999-03-03    128773   20.3750   20.3750   20.6250\n",
      "28     NVDA 1999-03-04    120175   19.9375   19.7500   19.9375\n",
      "29     NVDA 1999-03-05    165321   21.0625   21.0000   21.0625\n",
      "...     ...        ...       ...       ...       ...       ...\n",
      "4486   NVDA 2016-11-17  20836021   92.3900   92.3900   92.4100\n",
      "4487   NVDA 2016-11-18  14401499   93.3600   93.3500   93.3600\n",
      "4488   NVDA 2016-11-21  10910958   92.9800   92.9800   93.0100\n",
      "4489   NVDA 2016-11-22   8259232   93.6500   93.6400   93.6500\n",
      "4490   NVDA 2016-11-23  11081057   93.9700   93.9500   93.9700\n",
      "4491   NVDA 2016-11-25   4889078   94.1600   94.1100   94.1600\n",
      "4492   NVDA 2016-11-28   6968380   94.1100   94.1000   94.1100\n",
      "4493   NVDA 2016-11-29  11114187   93.2500   93.2500   93.2700\n",
      "4494   NVDA 2016-11-30  11012570   92.2000   92.2000   92.2200\n",
      "4495   NVDA 2016-12-01  25893353   87.6400   87.6400   87.6500\n",
      "4496   NVDA 2016-12-02  11957468   88.4500   88.4500   88.4700\n",
      "4497   NVDA 2016-12-05  15067125   91.8800   91.8700   91.8800\n",
      "4498   NVDA 2016-12-06  12469875   93.3900   93.3900   93.4000\n",
      "4499   NVDA 2016-12-07  12020593   95.0700   95.0400   95.0700\n",
      "4500   NVDA 2016-12-08   9538602   93.4800   93.4700   93.4900\n",
      "4501   NVDA 2016-12-09   9557799   91.8200   91.8000   91.8200\n",
      "4502   NVDA 2016-12-12  15033365   89.5900   89.5700   89.5900\n",
      "4503   NVDA 2016-12-13   9694874   91.1700   91.1700   91.1900\n",
      "4504   NVDA 2016-12-14  24599538   96.4500   96.4400   96.4600\n",
      "4505   NVDA 2016-12-15  18663653   98.7100   98.7000   98.7200\n",
      "4506   NVDA 2016-12-16  27238183  100.4100  100.3900  100.4000\n",
      "4507   NVDA 2016-12-19  18616956  101.6300  101.6500  101.6600\n",
      "4508   NVDA 2016-12-20  21201433  105.1700  105.1700  105.1800\n",
      "4509   NVDA 2016-12-21  14403361  105.8300  105.8200  105.8400\n",
      "4510   NVDA 2016-12-22  17965259  107.1100  107.0900  107.1100\n",
      "4511   NVDA 2016-12-23  16193331  109.7800  109.7700  109.7900\n",
      "4512   NVDA 2016-12-27  29857132  117.3200  117.3100  117.3200\n",
      "4513   NVDA 2016-12-28  57384116  109.2500  109.2500  109.2900\n",
      "4514   NVDA 2016-12-29  54384676  111.4300  111.2600  111.4200\n",
      "4515   NVDA 2016-12-30  30323259  106.7400  106.7300  106.7500\n",
      "\n",
      "[4516 rows x 6 columns]\n"
     ]
    }
   ],
   "source": [
    "df= s.loadTable(dbPath=WORK_DIR+\"/valuedb\", tableName=\"trade\").contextby('ticker').having(\"sum(VOL)>40000000000\").toDF()\n",
    "print(df)"
   ]
  },
  {
   "cell_type": "markdown",
   "metadata": {},
   "source": [
    "#### 5.6 Table join\n",
    "\n",
    "DolphinDB table class has method **merge** for inner, left, and outer join; method **merge_asof** for asof join; method **merge_window** for window join.\n",
    "\n",
    "#### 5.6.1 **merge**\n",
    "\n",
    "Specify joining columns with parameter **on** if joining column names are identical in both tables; use parameters **left_on** and **right_on** when joining column names are different. The optional parameter **how** indicates table join type. The default table join mode is inner join. "
   ]
  },
  {
   "cell_type": "code",
   "execution_count": 50,
   "metadata": {},
   "outputs": [
    {
     "name": "stdout",
     "output_type": "stream",
     "text": [
      "select * from ej(TMP_TBL_6461ef1d,TMP_TBL_dd21b9a5,`TICKER`date,`TICKER`date)\n",
      "  TICKER       date      VOL        PRC        BID        ASK  open\n",
      "0   AMZN 2015-12-29  5734996  693.96997  693.96997  694.20001   674\n",
      "1   AMZN 2015-12-30  3519303  689.07001  689.07001  689.09998   685\n",
      "2   AMZN 2015-12-31  3749860  675.89001  675.85999  675.94000   695\n"
     ]
    }
   ],
   "source": [
    "trade = s.loadTable(dbPath=WORK_DIR+\"/valuedb\", tableName=\"trade\")\n",
    "t1 = s.table(data={'TICKER': ['AMZN', 'AMZN', 'AMZN'], 'date': ['2015.12.31', '2015.12.30', '2015.12.29'], 'open': [695, 685, 674]})\n",
    "print(trade.merge(t1,on=[\"TICKER\",\"date\"]).toDF())"
   ]
  },
  {
   "cell_type": "markdown",
   "metadata": {},
   "source": [
    "We need to specify arguments **left_on** and **right_on** when joining column names are different. "
   ]
  },
  {
   "cell_type": "code",
   "execution_count": 51,
   "metadata": {},
   "outputs": [
    {
     "name": "stdout",
     "output_type": "stream",
     "text": [
      "select * from ej(TMP_TBL_4f5a07cb,TMP_TBL_f61b412c,`TICKER`date,`TICKER1`date1)\n",
      "  TICKER       date      VOL        PRC        BID        ASK  open\n",
      "0   AMZN 2015-12-29  5734996  693.96997  693.96997  694.20001   674\n",
      "1   AMZN 2015-12-30  3519303  689.07001  689.07001  689.09998   685\n",
      "2   AMZN 2015-12-31  3749860  675.89001  675.85999  675.94000   695\n"
     ]
    }
   ],
   "source": [
    "trade = s.loadTable(dbPath=WORK_DIR+\"/valuedb\", tableName=\"trade\")\n",
    "t1 = s.table(data={'TICKER1': ['AMZN', 'AMZN', 'AMZN'], 'date1': ['2015.12.31', '2015.12.30', '2015.12.29'], 'open': [695, 685, 674]})\n",
    "print(trade.merge(t1,left_on=[\"TICKER\",\"date\"], right_on=[\"TICKER1\",\"date1\"]).toDF())"
   ]
  },
  {
   "cell_type": "markdown",
   "metadata": {},
   "source": [
    "To conduct left join, set parameter **how** to \"left\". "
   ]
  },
  {
   "cell_type": "code",
   "execution_count": 52,
   "metadata": {},
   "outputs": [
    {
     "name": "stdout",
     "output_type": "stream",
     "text": [
      "select * from lj(TMP_TBL_1cea5291,TMP_TBL_8c54f577,`TICKER`date,`TICKER`date) where TICKER=`AMZN and 2015.12.23<=date<=2015.12.31\n",
      "  TICKER       date      VOL        PRC        BID        ASK   open\n",
      "0   AMZN 2015-12-23  2722922  663.70001  663.48999  663.71002    NaN\n",
      "1   AMZN 2015-12-24  1092980  662.78998  662.56000  662.79999    NaN\n",
      "2   AMZN 2015-12-28  3783555  675.20001  675.00000  675.21002    NaN\n",
      "3   AMZN 2015-12-29  5734996  693.96997  693.96997  694.20001  674.0\n",
      "4   AMZN 2015-12-30  3519303  689.07001  689.07001  689.09998  685.0\n",
      "5   AMZN 2015-12-31  3749860  675.89001  675.85999  675.94000  695.0\n"
     ]
    }
   ],
   "source": [
    "trade = s.loadTable(dbPath=WORK_DIR+\"/valuedb\", tableName=\"trade\")\n",
    "t1 = s.table(data={'TICKER': ['AMZN', 'AMZN', 'AMZN'], 'date': ['2015.12.31', '2015.12.30', '2015.12.29'], 'open': [695, 685, 674]})\n",
    "print(trade.merge(t1,how=\"left\", on=[\"TICKER\",\"date\"]).where('TICKER=`AMZN').where('2015.12.23<=date<=2015.12.31').toDF())"
   ]
  },
  {
   "cell_type": "markdown",
   "metadata": {},
   "source": [
    "To conduct outer join, set parameter **how** to \"outer\". A partitioned table can only be outer joined with a partitioned table. An in-memory table can only be outer joined with an in-memory table."
   ]
  },
  {
   "cell_type": "code",
   "execution_count": 53,
   "metadata": {},
   "outputs": [
    {
     "name": "stdout",
     "output_type": "stream",
     "text": [
      "select * from fj(TMP_TBL_189558ee,TMP_TBL_628cee9c,`TICKER`date,`TICKER`date)\n",
      "  TICKER        date   open TMP_TBL_628cee9c_TICKER TMP_TBL_628cee9c_date  \\\n",
      "0   AMZN  2015.12.29  674.0                    AMZN            2015.12.29   \n",
      "1   AMZN  2015.12.30  685.0                                                 \n",
      "2   NFLX  2015.12.31  942.0                    NFLX            2015.12.31   \n",
      "3                       NaN                    NFLX            2015.12.30   \n",
      "\n",
      "   close  \n",
      "0  690.0  \n",
      "1    NaN  \n",
      "2  951.0  \n",
      "3  936.0  \n"
     ]
    }
   ],
   "source": [
    "t1 = s.table(data={'TICKER': ['AMZN', 'AMZN', 'NFLX'], 'date': ['2015.12.29', '2015.12.30', '2015.12.31'], 'open': [674, 685, 942]})\n",
    "t2 = s.table(data={'TICKER': ['AMZN', 'NFLX', 'NFLX'], 'date': ['2015.12.29', '2015.12.30', '2015.12.31'], 'close': [690, 936, 951]})\n",
    "print(t1.merge(t2, how=\"outer\", on=[\"TICKER\",\"date\"]).toDF())"
   ]
  },
  {
   "cell_type": "markdown",
   "metadata": {},
   "source": [
    "#### 5.6.2 **merge_asof**\n",
    "\n",
    "The asof join function is used in non-synchronous join. It is similar to the left join function witht the following differences:\n",
    "1. The data type of the last matching column is usually temporal. For a row in the left table with time t, if there is not a match of left join in the right table, the row in the right table that corresponds to the most recent time before time t is taken, if all the other matching columns are matched; if there are more than one matching record in the right table, the last record is taken. \n",
    "2. If there is only 1 joining column, the asof join function assumes the right table is sorted on the joining column. If there are multiple joining columns, the asof join function assumes the right table is sorted on the last joining column within each group defined by the other joining columns. The right table does not need to be sorted by the other joining columns. If these conditions are not met, we may see unexpected results. The left table does not need to be sorted. \n",
    "\n",
    "For **merge_asof** and **merge_window**, we use data files trades.csv and quotes.csv, which are AAPL and FB trades and quotes data taken from NYSE website. "
   ]
  },
  {
   "cell_type": "code",
   "execution_count": 54,
   "metadata": {},
   "outputs": [
    {
     "name": "stdout",
     "output_type": "stream",
     "text": [
      "select top 5 Time,Symbol,Trade_Volume,Trade_Price from TMP_TBL_c189075f\n",
      "              Time Symbol  Trade_Volume  Trade_Price\n",
      "0  09:30:00.087488   AAPL        370466      117.100\n",
      "1  09:30:00.087681   AAPL        370466      117.100\n",
      "2  09:30:00.103645   AAPL           100      117.100\n",
      "3  09:30:00.213850   AAPL            20      117.100\n",
      "4  09:30:00.264854   AAPL            17      117.095\n"
     ]
    }
   ],
   "source": [
    "WORK_DIR = \"C:/DolphinDB/Data\"\n",
    "if s.existsDatabase(WORK_DIR+\"/tickDB\"):\n",
    "    s.dropDatabase(WORK_DIR+\"/tickDB\")\n",
    "s.database('db', partitionType=ddb.VALUE, partitions=[\"AAPL\",\"FB\"], dbPath=WORK_DIR+\"/tickDB\")\n",
    "trades = s.loadTextEx(\"db\",  tableName='trades',partitionColumns=[\"Symbol\"], filePath=WORK_DIR + \"/trades.csv\")\n",
    "quotes = s.loadTextEx(\"db\",  tableName='quotes',partitionColumns=[\"Symbol\"], filePath=WORK_DIR + \"/quotes.csv\")\n",
    "\n",
    "print(trades.top(5).toDF())"
   ]
  },
  {
   "cell_type": "code",
   "execution_count": 55,
   "metadata": {},
   "outputs": [
    {
     "name": "stdout",
     "output_type": "stream",
     "text": [
      "select top 5 Time,Symbol,Bid_Price,Bid_Size,Offer_Price,Offer_Size from TMP_TBL_e2374990 where second(Time)>=09:29:59\n",
      "              Time Symbol  Bid_Price  Bid_Size  Offer_Price  Offer_Size\n",
      "0  09:29:59.300399   AAPL     117.07         1       117.09           1\n",
      "1  09:29:59.300954   AAPL     117.07         1       117.09           1\n",
      "2  09:29:59.301594   AAPL     117.05         1       117.19          10\n",
      "3  09:30:00.499924   AAPL     117.09        46       117.10           3\n",
      "4  09:30:00.500005   AAPL     116.86        53       117.37          64\n"
     ]
    }
   ],
   "source": [
    "print(quotes.where(\"second(Time)>=09:29:59\").top(5).toDF())"
   ]
  },
  {
   "cell_type": "code",
   "execution_count": 56,
   "metadata": {},
   "outputs": [
    {
     "name": "stdout",
     "output_type": "stream",
     "text": [
      "select top 5 Symbol,Time,Trade_Volume,Trade_Price,Bid_Price,Bid_Size,Offer_Price,Offer_Size from aj(TMP_TBL_c189075f,TMP_TBL_e2374990,`Symbol`Time,`Symbol`Time)\n",
      "  Symbol             Time  Trade_Volume  Trade_Price  Bid_Price  Bid_Size  \\\n",
      "0   AAPL  09:30:00.087488        370466      117.100     117.05         1   \n",
      "1   AAPL  09:30:00.087681        370466      117.100     117.05         1   \n",
      "2   AAPL  09:30:00.103645           100      117.100     117.05         1   \n",
      "3   AAPL  09:30:00.213850            20      117.100     117.05         1   \n",
      "4   AAPL  09:30:00.264854            17      117.095     117.05         1   \n",
      "\n",
      "   Offer_Price  Offer_Size  \n",
      "0       117.19          10  \n",
      "1       117.19          10  \n",
      "2       117.19          10  \n",
      "3       117.19          10  \n",
      "4       117.19          10  \n"
     ]
    }
   ],
   "source": [
    "print(trades.merge_asof(quotes,on=[\"Symbol\",\"Time\"]).select([\"Symbol\",\"Time\",\"Trade_Volume\",\"Trade_Price\",\"Bid_Price\", \"Bid_Size\",\"Offer_Price\", \"Offer_Size\"]).top(5).toDF())"
   ]
  },
  {
   "cell_type": "markdown",
   "metadata": {},
   "source": [
    "To calculate trading cost:"
   ]
  },
  {
   "cell_type": "code",
   "execution_count": 57,
   "metadata": {},
   "outputs": [
    {
     "name": "stdout",
     "output_type": "stream",
     "text": [
      "select sum(Trade_Volume*abs(Trade_Price-(Bid_Price+Offer_Price)/2))/sum(Trade_Volume*Trade_Price)*10000 as cost from aj(TMP_TBL_c189075f,TMP_TBL_e2374990,`Symbol`Time,`Symbol`Time) group by Symbol\n",
      "select sum(Trade_Volume*abs(Trade_Price-(Bid_Price+Offer_Price)/2))/sum(Trade_Volume*Trade_Price)*10000 as cost from aj(TMP_TBL_c189075f,TMP_TBL_e2374990,`Symbol`Time,`Symbol`Time) group by Symbol\n",
      "  Symbol      cost\n",
      "0   AAPL  0.899823\n",
      "1     FB  2.722923\n"
     ]
    }
   ],
   "source": [
    "print(trades.merge_asof(quotes, on=[\"Symbol\",\"Time\"]).select(\"sum(Trade_Volume*abs(Trade_Price-(Bid_Price+Offer_Price)/2))/sum(Trade_Volume*Trade_Price)*10000 as cost\").groupby(\"Symbol\").toDF())"
   ]
  },
  {
   "cell_type": "markdown",
   "metadata": {},
   "source": [
    "#### 5.6.3 **merge_window**\n",
    "\n",
    "**merge_window** (window join) is a generalization of asof join. With a window defined by parameters **leftBound** (w1) and **rightBound** (w2), for each row in the left table with the value of the last joining column equal to t, find the rows in the right table with the value of the last joining column between (t+w1) and (t+w2) conditional on all other joining columns are matched, then apply **aggFunctions** to the selected rows in the right table. \n",
    "\n",
    "The only difference between window join and prevailing window join is that if the right table doesn't contain a matching value for t+w1 (the left boundary of the window), prevailing window join will fill it with the last value before t+w1 (conditional on all other joining columns are matched), and apply **aggFunctions**. To use prevailing window join, set the parameter **prevailing** to be True. "
   ]
  },
  {
   "cell_type": "code",
   "execution_count": 58,
   "metadata": {},
   "outputs": [
    {
     "name": "stdout",
     "output_type": "stream",
     "text": [
      "wj(TMP_TBL_c189075f,TMP_TBL_e2374990,-5000000000:0,<[avg(Bid_Price),avg(Offer_Price)]>,`Symbol`Time,`Symbol`Time)\n",
      "select top 10 * from wj(TMP_TBL_c189075f,TMP_TBL_e2374990,-5000000000:0,<[avg(Bid_Price),avg(Offer_Price)]>,`Symbol`Time,`Symbol`Time) where Time>=15:59:59\n",
      "              Time Symbol  Trade_Volume  Trade_Price  avg_Bid_Price  \\\n",
      "0  15:59:59.003095   AAPL           250      117.620     117.603714   \n",
      "1  15:59:59.003748   AAPL           100      117.620     117.603714   \n",
      "2  15:59:59.011092   AAPL            95      117.620     117.603714   \n",
      "3  15:59:59.011336   AAPL           200      117.620     117.603714   \n",
      "4  15:59:59.022841   AAPL           144      117.610     117.603689   \n",
      "5  15:59:59.028169   AAPL           130      117.615     117.603544   \n",
      "6  15:59:59.035357   AAPL          1101      117.610     117.603544   \n",
      "7  15:59:59.035360   AAPL           799      117.610     117.603544   \n",
      "8  15:59:59.035602   AAPL           130      117.610     117.603544   \n",
      "9  15:59:59.036929   AAPL          2201      117.610     117.603544   \n",
      "\n",
      "   avg_Offer_Price  \n",
      "0       117.626816  \n",
      "1       117.626816  \n",
      "2       117.626816  \n",
      "3       117.626816  \n",
      "4       117.626803  \n",
      "5       117.626962  \n",
      "6       117.626962  \n",
      "7       117.626962  \n",
      "8       117.626962  \n",
      "9       117.626962  \n"
     ]
    }
   ],
   "source": [
    "print(trades.merge_window(quotes, -5000000000, 0, aggFunctions=[\"avg(Bid_Price)\",\"avg(Offer_Price)\"], on=[\"Symbol\",\"Time\"]).where(\"Time>=15:59:59\").top(10).toDF())"
   ]
  },
  {
   "cell_type": "markdown",
   "metadata": {},
   "source": [
    "To calculate trading cost:"
   ]
  },
  {
   "cell_type": "code",
   "execution_count": 59,
   "metadata": {},
   "outputs": [
    {
     "name": "stdout",
     "output_type": "stream",
     "text": [
      "pwj(TMP_TBL_c189075f,TMP_TBL_e2374990,-1000000000:0,<[wavg(Offer_Price, Offer_Size) as Offer_Price, wavg(Bid_Price, Bid_Size) as Bid_Price]>,`Symbol`Time,`Symbol`Time)\n",
      "select sum(Trade_Volume*abs(Trade_Price-(Bid_Price+Offer_Price)/2))/sum(Trade_Volume*Trade_Price)*10000 as cost from pwj(TMP_TBL_c189075f,TMP_TBL_e2374990,-1000000000:0,<[wavg(Offer_Price, Offer_Size) as Offer_Price, wavg(Bid_Price, Bid_Size) as Bid_Price]>,`Symbol`Time,`Symbol`Time) group by Symbol\n",
      "tradingCost=select sum(Trade_Volume*abs(Trade_Price-(Bid_Price+Offer_Price)/2))/sum(Trade_Volume*Trade_Price)*10000 as cost from pwj(TMP_TBL_c189075f,TMP_TBL_e2374990,-1000000000:0,<[wavg(Offer_Price, Offer_Size) as Offer_Price, wavg(Bid_Price, Bid_Size) as Bid_Price]>,`Symbol`Time,`Symbol`Time) group by Symbol\n",
      "select Symbol,cost from tradingCost\n",
      "  Symbol      cost\n",
      "0   AAPL  0.953315\n",
      "1     FB  1.077876\n"
     ]
    }
   ],
   "source": [
    "trades.merge_window(quotes,-1000000000, 0, aggFunctions=\"[wavg(Offer_Price, Offer_Size) as Offer_Price, wavg(Bid_Price, Bid_Size) as Bid_Price]\", on=[\"Symbol\",\"Time\"], prevailing=True).select(\"sum(Trade_Volume*abs(Trade_Price-(Bid_Price+Offer_Price)/2))/sum(Trade_Volume*Trade_Price)*10000 as cost\").groupby(\"Symbol\").executeAs(\"tradingCost\")\n",
    "\n",
    "print(s.loadTable(tableName=\"tradingCost\").toDF())"
   ]
  },
  {
   "cell_type": "markdown",
   "metadata": {},
   "source": [
    "#### 5.7 **executeAs**\n",
    "\n",
    "Function **executeAs** saves query result as a table on DolphinDB server. "
   ]
  },
  {
   "cell_type": "code",
   "execution_count": 60,
   "metadata": {},
   "outputs": [
    {
     "name": "stdout",
     "output_type": "stream",
     "text": [
      "select date,bid,ask,prc,vol from TMP_TBL_a1ca3916 where TICKER=`AMZN and bid!=NULL and ask!=NULL and vol>10000000 order by vol desc\n",
      "AMZN=(select date,bid,ask,prc,vol from TMP_TBL_a1ca3916 where TICKER=`AMZN and bid!=NULL and ask!=NULL and vol>10000000 order by vol desc)\n"
     ]
    },
    {
     "data": {
      "text/plain": [
       "<dolphindb.table.Table at 0x2be498e41d0>"
      ]
     },
     "execution_count": 60,
     "metadata": {},
     "output_type": "execute_result"
    }
   ],
   "source": [
    "trade = s.loadTable(dbPath=WORK_DIR+\"/valuedb\", tableName=\"trade\")\n",
    "trade.select(['date','bid','ask','prc','vol']).where('TICKER=`AMZN').where('bid!=NULL').where('ask!=NULL').where('vol>10000000').sort('vol desc').executeAs(\"AMZN\")"
   ]
  },
  {
   "cell_type": "markdown",
   "metadata": {},
   "source": [
    "To use the table \"AMZN\" on DolphinDB server:"
   ]
  },
  {
   "cell_type": "code",
   "execution_count": 61,
   "metadata": {},
   "outputs": [],
   "source": [
    "t1=s.loadTable(tableName=\"AMZN\")"
   ]
  },
  {
   "cell_type": "markdown",
   "metadata": {},
   "source": [
    "#### 6 Regression\n",
    "\n",
    "Method **ols** conducts ordinary least squares regression. It returns a dictionary with regression results."
   ]
  },
  {
   "cell_type": "code",
   "execution_count": 62,
   "metadata": {},
   "outputs": [
    {
     "name": "stdout",
     "output_type": "stream",
     "text": [
      "select bid,ask,prc from TMP_TBL_8a1563fa\n",
      "olsEx(sqlDS(<select bid,ask,prc from TMP_TBL_8a1563fa>),\"PRC\",['BID', 'ASK'],true,2)\n",
      "    Breakdown     DF            SS            MS             F  Significance\n",
      "0  Regression      2  2.689281e+08  1.344640e+08  1.214740e+10           0.0\n",
      "1    Residual  13133  1.453740e+02  1.106937e-02           NaN           NaN\n",
      "2       Total  13135  2.689282e+08           NaN           NaN           NaN\n"
     ]
    }
   ],
   "source": [
    "trade = s.loadTable(tableName=\"trade\",dbPath=WORK_DIR + \"/valuedb\", memoryMode=True)\n",
    "z=trade.select(['bid','ask','prc']).ols('PRC', ['BID', 'ASK'])\n",
    "\n",
    "print(z[\"ANOVA\"])"
   ]
  },
  {
   "cell_type": "code",
   "execution_count": 63,
   "metadata": {},
   "outputs": [
    {
     "name": "stdout",
     "output_type": "stream",
     "text": [
      "           item    statistics\n",
      "0            R2      0.999999\n",
      "1    AdjustedR2      0.999999\n",
      "2      StdError      0.105211\n",
      "3  Observations  13136.000000\n"
     ]
    }
   ],
   "source": [
    "print(z[\"RegressionStat\"])"
   ]
  },
  {
   "cell_type": "code",
   "execution_count": 64,
   "metadata": {},
   "outputs": [
    {
     "name": "stdout",
     "output_type": "stream",
     "text": [
      "      factor      beta  stdError      tstat    pvalue\n",
      "0  intercept  0.003710  0.001155   3.213187  0.001316\n",
      "1        BID  0.605307  0.010517  57.552527  0.000000\n",
      "2        ASK  0.394712  0.010515  37.537919  0.000000\n"
     ]
    }
   ],
   "source": [
    "print(z[\"Coefficient\"])"
   ]
  },
  {
   "cell_type": "code",
   "execution_count": 65,
   "metadata": {},
   "outputs": [
    {
     "name": "stdout",
     "output_type": "stream",
     "text": [
      "0.6053065015003085\n"
     ]
    }
   ],
   "source": [
    "print(z[\"Coefficient\"].beta[1])"
   ]
  },
  {
   "cell_type": "markdown",
   "metadata": {},
   "source": [
    "The following example conducts regression on a partitioned database. Note that the ratio operator between 2 integer columns in DolphinDB is \"\\\", which happens to be the escape character in Python, so we need to use \"VOL\\\\SHROUT\" in function **select**."
   ]
  },
  {
   "cell_type": "code",
   "execution_count": 68,
   "metadata": {},
   "outputs": [],
   "source": [
    "# result = s.loadTable(tableName=\"US\",dbPath=\"dfs://US\").select(\"select VOL\\\\SHROUT as turnover, abs(RET) as absRet, (ASK-BID)/(BID+ASK)*2 as spread, log(SHROUT*(BID+ASK)/2) as logMV\").where(\"VOL>0\").ols(\"turnover\", [\"absRet\",\"logMV\", \"spread\"], True)\n",
    "# print(result[\"ANOVA\"])"
   ]
  },
  {
   "cell_type": "markdown",
   "metadata": {},
   "source": [
    "#### 7 **run**\n",
    "\n",
    "A session object has a method **run** that can execute any DolphinDB script. If the script returns an object in DolphinDB, method **run** converts the object to a corresponding object in Python.  "
   ]
  },
  {
   "cell_type": "code",
   "execution_count": 69,
   "metadata": {},
   "outputs": [
    {
     "name": "stdout",
     "output_type": "stream",
     "text": [
      "           bid       ask       prc\n",
      "0      19.6250   19.6875   19.6875\n",
      "1      21.7500   21.8750   21.7500\n",
      "2      20.0625   20.1250   20.0625\n",
      "3      19.8750   20.0000   20.0000\n",
      "4      19.8750   20.0000   19.9375\n",
      "5      19.0000   19.3125   19.0000\n",
      "6      19.3750   19.5000   19.3750\n",
      "7      17.7500   17.8750   17.8750\n",
      "8      18.2500   18.5000   18.2500\n",
      "9      19.0000   19.3125   19.2500\n",
      "10     19.8125   19.8750   19.8125\n",
      "11     19.1250   19.1875   19.1250\n",
      "12     18.3750   18.7500   18.3750\n",
      "13     18.1250   18.5000   18.1875\n",
      "14     19.6250   20.0000   19.7500\n",
      "15     20.8750   20.9375   20.8750\n",
      "16     20.2500   21.0000   21.0000\n",
      "17     19.8750   20.1250   19.8750\n",
      "18     20.0000   20.1875   20.1875\n",
      "19     20.8750   21.0000   20.8750\n",
      "20     21.0000   21.1250   21.0000\n",
      "21     22.0000   22.3750   22.0000\n",
      "22     23.6250   23.7500   23.7500\n",
      "23     22.8750   23.0000   23.0000\n",
      "24     21.9375   22.0000   21.9375\n",
      "25     21.7500   22.0625   22.0625\n",
      "26     21.6875   21.8750   21.8750\n",
      "27     20.3750   20.6250   20.3750\n",
      "28     19.7500   19.9375   19.9375\n",
      "29     21.0000   21.0625   21.0625\n",
      "...        ...       ...       ...\n",
      "4486   92.3900   92.4100   92.3900\n",
      "4487   93.3500   93.3600   93.3600\n",
      "4488   92.9800   93.0100   92.9800\n",
      "4489   93.6400   93.6500   93.6500\n",
      "4490   93.9500   93.9700   93.9700\n",
      "4491   94.1100   94.1600   94.1600\n",
      "4492   94.1000   94.1100   94.1100\n",
      "4493   93.2500   93.2700   93.2500\n",
      "4494   92.2000   92.2200   92.2000\n",
      "4495   87.6400   87.6500   87.6400\n",
      "4496   88.4500   88.4700   88.4500\n",
      "4497   91.8700   91.8800   91.8800\n",
      "4498   93.3900   93.4000   93.3900\n",
      "4499   95.0400   95.0700   95.0700\n",
      "4500   93.4700   93.4900   93.4800\n",
      "4501   91.8000   91.8200   91.8200\n",
      "4502   89.5700   89.5900   89.5900\n",
      "4503   91.1700   91.1900   91.1700\n",
      "4504   96.4400   96.4600   96.4500\n",
      "4505   98.7000   98.7200   98.7100\n",
      "4506  100.3900  100.4000  100.4100\n",
      "4507  101.6500  101.6600  101.6300\n",
      "4508  105.1700  105.1800  105.1700\n",
      "4509  105.8200  105.8400  105.8300\n",
      "4510  107.0900  107.1100  107.1100\n",
      "4511  109.7700  109.7900  109.7800\n",
      "4512  117.3100  117.3200  117.3200\n",
      "4513  109.2500  109.2900  109.2500\n",
      "4514  111.2600  111.4200  111.4300\n",
      "4515  106.7300  106.7500  106.7400\n",
      "\n",
      "[4516 rows x 3 columns]\n"
     ]
    }
   ],
   "source": [
    "# Load table\n",
    "trade = s.loadTable(dbPath=WORK_DIR+\"/valuedb\", tableName=\"trade\")\n",
    "\n",
    "# query the table and return a pandas DataFrame\n",
    "t = s.run(\"select bid, ask, prc from trade where bid!=NULL, ask!=NULL, vol>1000\")\n",
    "print(t)"
   ]
  },
  {
   "cell_type": "code",
   "execution_count": null,
   "metadata": {},
   "outputs": [],
   "source": []
  }
 ],
 "metadata": {
  "kernelspec": {
   "display_name": "Python 3",
   "language": "python",
   "name": "python3"
  },
  "language_info": {
   "codemirror_mode": {
    "name": "ipython",
    "version": 3
   },
   "file_extension": ".py",
   "mimetype": "text/x-python",
   "name": "python",
   "nbconvert_exporter": "python",
   "pygments_lexer": "ipython3",
   "version": "3.6.5"
  }
 },
 "nbformat": 4,
 "nbformat_minor": 2
}
